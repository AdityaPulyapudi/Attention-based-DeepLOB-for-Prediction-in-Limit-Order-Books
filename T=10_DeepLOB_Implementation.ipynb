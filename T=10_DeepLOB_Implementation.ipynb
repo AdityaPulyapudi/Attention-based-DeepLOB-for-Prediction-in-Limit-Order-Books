{
  "nbformat": 4,
  "nbformat_minor": 0,
  "metadata": {
    "colab": {
      "provenance": [],
      "gpuType": "T4"
    },
    "kernelspec": {
      "name": "python3",
      "display_name": "Python 3"
    },
    "language_info": {
      "name": "python"
    },
    "accelerator": "GPU"
  },
  "cells": [
    {
      "cell_type": "code",
      "execution_count": null,
      "metadata": {
        "id": "HE8wSgKA-zUK",
        "colab": {
          "base_uri": "https://localhost:8080/"
        },
        "outputId": "4bb8fd37-b875-456e-d726-bbe14af0c6e2"
      },
      "outputs": [
        {
          "output_type": "stream",
          "name": "stdout",
          "text": [
            "Mounted at /content/drive\n"
          ]
        }
      ],
      "source": [
        "from google.colab import drive\n",
        "drive.mount('/content/drive')"
      ]
    },
    {
      "cell_type": "code",
      "source": [
        "import torch\n",
        "device = torch.device(\"cuda:0\" if torch.cuda.is_available() else \"cpu\")\n",
        "print(device)"
      ],
      "metadata": {
        "colab": {
          "base_uri": "https://localhost:8080/"
        },
        "id": "eD5q_zh7Axpd",
        "outputId": "bfa89f70-0e55-47a4-c5c7-f310c506e6e9"
      },
      "execution_count": null,
      "outputs": [
        {
          "output_type": "stream",
          "name": "stdout",
          "text": [
            "cuda:0\n"
          ]
        }
      ]
    },
    {
      "cell_type": "code",
      "source": [
        "import numpy as np\n",
        "\n",
        "dec_data = np.loadtxt('/content/drive/MyDrive/Copy of Train_Dst_NoAuction_DecPre_CF_7.txt')\n",
        "dec_train = dec_data[:, :int(np.floor(dec_data.shape[1] * 0.8))]\n",
        "dec_val = dec_data[:, int(np.floor(dec_data.shape[1] * 0.8)):]\n",
        "\n",
        "dec_test1 = np.loadtxt('/content/drive/MyDrive/Copy of Test_Dst_NoAuction_DecPre_CF_7.txt')\n",
        "dec_test2 = np.loadtxt('/content/drive/MyDrive/Copy of Test_Dst_NoAuction_DecPre_CF_8.txt')\n",
        "dec_test3 = np.loadtxt('/content/drive/MyDrive/Copy of Test_Dst_NoAuction_DecPre_CF_8.txt')\n",
        "dec_test = np.hstack((dec_test1, dec_test2, dec_test3))\n",
        "\n",
        "print(dec_data.shape)\n",
        "print(dec_train.shape)\n",
        "print(dec_val.shape)\n",
        "print(dec_test.shape)"
      ],
      "metadata": {
        "colab": {
          "base_uri": "https://localhost:8080/"
        },
        "id": "M9qS_jUeA0l4",
        "outputId": "276fa3d5-56da-406d-b63d-c02220be48cf"
      },
      "execution_count": null,
      "outputs": [
        {
          "output_type": "stream",
          "name": "stdout",
          "text": [
            "(149, 254750)\n",
            "(149, 203800)\n",
            "(149, 50950)\n",
            "(149, 159822)\n"
          ]
        }
      ]
    },
    {
      "cell_type": "code",
      "source": [
        "# load packages\n",
        "import pandas as pd\n",
        "import pickle\n",
        "import numpy as np\n",
        "import keras\n",
        "import tensorflow as tf\n",
        "from keras import backend as K\n",
        "from keras.models import load_model, Model\n",
        "from keras.layers import Flatten, Dense, Dropout, Activation, Input, LSTM, Reshape, Conv2D, MaxPooling2D\n",
        "from keras.optimizers import Adam\n",
        "from keras.layers import LeakyReLU\n",
        "# from keras.layers.advanced_activations import LeakyReLU\n",
        "from keras.utils import to_categorical\n",
        "# from keras.utils import np_utils\n",
        "\n",
        "from sklearn.metrics import classification_report, accuracy_score\n",
        "import matplotlib.pyplot as plt\n",
        "\n",
        "# set random seeds\n",
        "np.random.seed(1)\n",
        "tf.random.set_seed(2)"
      ],
      "metadata": {
        "id": "QoQe5U4yBOTP"
      },
      "execution_count": null,
      "outputs": []
    },
    {
      "cell_type": "code",
      "source": [
        "def prepare_x(data):\n",
        "    df1 = data[:40, :].T\n",
        "    return np.array(df1)\n",
        "\n",
        "def get_label(data):\n",
        "    lob = data[-5:, :].T\n",
        "    return lob\n",
        "\n",
        "def data_classification(X, Y, T):\n",
        "    [N, D] = X.shape\n",
        "    df = np.array(X)\n",
        "    dY = np.array(Y)\n",
        "    dataY = dY[T - 1:N]\n",
        "    dataX = np.zeros((N - T + 1, T, D))\n",
        "    for i in range(T, N + 1):\n",
        "        dataX[i - T] = df[i - T:i, :]\n",
        "    return dataX.reshape(dataX.shape + (1,)), dataY\n",
        "\n",
        "def prepare_x_y(data, k, T):\n",
        "    x = prepare_x(data)\n",
        "    y = get_label(data)\n",
        "    x, y = data_classification(x, y, T=T)\n",
        "    y = y[:,k] - 1\n",
        "    y = to_categorical(y, 3)\n",
        "    return x, y"
      ],
      "metadata": {
        "id": "5a1ZNnSjBQ7q"
      },
      "execution_count": null,
      "outputs": []
    },
    {
      "cell_type": "code",
      "source": [
        "k = 4 # which prediction horizon\n",
        "T = 10 # the length of a single input i. e lookback_timestep THIS HYPERPARAMETER IS FINE TUNED FOR MODEL CONVERGENCE\n",
        "n_hiddens = 64\n",
        "checkpoint_filepath = '/content/drive/MyDrive/path_to_your_model_checkpoints/'\n",
        "# checkpoint_filepath = './model_tensorflow2/weights'"
      ],
      "metadata": {
        "id": "gE7CLstKBSpr"
      },
      "execution_count": null,
      "outputs": []
    },
    {
      "cell_type": "code",
      "source": [
        "# Training Dataset Shrinking\n",
        "# dec_train = dec_train[:,:50000]\n",
        "print(dec_train.shape)\n",
        "trainX_CNN, trainY_CNN = prepare_x_y(dec_train, k, T)\n",
        "print(trainX_CNN.shape, trainY_CNN.shape)"
      ],
      "metadata": {
        "colab": {
          "base_uri": "https://localhost:8080/"
        },
        "id": "NubSWmNjBWD4",
        "outputId": "e306eaa1-af0f-48a7-9813-704485bb3ed0"
      },
      "execution_count": null,
      "outputs": [
        {
          "output_type": "stream",
          "name": "stdout",
          "text": [
            "(149, 203800)\n",
            "(203791, 10, 40, 1) (203791, 3)\n"
          ]
        }
      ]
    },
    {
      "cell_type": "code",
      "source": [
        "# Testing Dataset Shrinking\n",
        "# dec_test = dec_test[:,:20000]\n",
        "print(dec_test.shape)\n",
        "testX_CNN, testY_CNN = prepare_x_y(dec_test, k, T)\n",
        "print(testX_CNN.shape, testY_CNN.shape)"
      ],
      "metadata": {
        "colab": {
          "base_uri": "https://localhost:8080/"
        },
        "id": "bI2kVMq3BYOe",
        "outputId": "7f8759cb-77b8-4010-b63c-30058cc7be17"
      },
      "execution_count": null,
      "outputs": [
        {
          "output_type": "stream",
          "name": "stdout",
          "text": [
            "(149, 159822)\n",
            "(159813, 10, 40, 1) (159813, 3)\n"
          ]
        }
      ]
    },
    {
      "cell_type": "code",
      "source": [
        "\n",
        "# Validation Dataset Shrinking\n",
        "# dec_val = dec_val[:,:10000]\n",
        "print(dec_val.shape)\n",
        "valX_CNN, valY_CNN = prepare_x_y(dec_val, k, T)\n",
        "print(valX_CNN.shape, valY_CNN.shape)"
      ],
      "metadata": {
        "colab": {
          "base_uri": "https://localhost:8080/"
        },
        "id": "d8WN89lWBZ1p",
        "outputId": "ae551bc9-9915-4b69-b800-87ccfe828418"
      },
      "execution_count": null,
      "outputs": [
        {
          "output_type": "stream",
          "name": "stdout",
          "text": [
            "(149, 50950)\n",
            "(50941, 10, 40, 1) (50941, 3)\n"
          ]
        }
      ]
    },
    {
      "cell_type": "code",
      "source": [
        "print(trainX_CNN.shape, trainY_CNN.shape)\n",
        "print(valX_CNN.shape, valY_CNN.shape)\n",
        "print(testX_CNN.shape, testY_CNN.shape)"
      ],
      "metadata": {
        "colab": {
          "base_uri": "https://localhost:8080/"
        },
        "id": "_vUIbc0zBbvk",
        "outputId": "fb78fd7e-e492-4339-de41-b52c225f9410"
      },
      "execution_count": null,
      "outputs": [
        {
          "output_type": "stream",
          "name": "stdout",
          "text": [
            "(203791, 10, 40, 1) (203791, 3)\n",
            "(50941, 10, 40, 1) (50941, 3)\n",
            "(159813, 10, 40, 1) (159813, 3)\n"
          ]
        }
      ]
    },
    {
      "cell_type": "code",
      "source": [
        "def create_deeplob(T, NF, number_of_lstm):\n",
        "    input_lmd = Input(shape=(T, NF, 1))\n",
        "\n",
        "    # build the convolutional block\n",
        "    conv_first1 = Conv2D(32, (1, 2), strides=(1, 2))(input_lmd)\n",
        "    conv_first1 = keras.layers.LeakyReLU(alpha=0.01)(conv_first1)\n",
        "    conv_first1 = Conv2D(32, (4, 1), padding='same')(conv_first1)\n",
        "    conv_first1 = keras.layers.LeakyReLU(alpha=0.01)(conv_first1)\n",
        "    conv_first1 = Conv2D(32, (4, 1), padding='same')(conv_first1)\n",
        "    conv_first1 = keras.layers.LeakyReLU(alpha=0.01)(conv_first1)\n",
        "\n",
        "    conv_first1 = Conv2D(32, (1, 2), strides=(1, 2))(conv_first1)\n",
        "    conv_first1 = keras.layers.LeakyReLU(alpha=0.01)(conv_first1)\n",
        "    conv_first1 = Conv2D(32, (4, 1), padding='same')(conv_first1)\n",
        "    conv_first1 = keras.layers.LeakyReLU(alpha=0.01)(conv_first1)\n",
        "    conv_first1 = Conv2D(32, (4, 1), padding='same')(conv_first1)\n",
        "    conv_first1 = keras.layers.LeakyReLU(alpha=0.01)(conv_first1)\n",
        "\n",
        "    conv_first1 = Conv2D(32, (1, 10))(conv_first1)\n",
        "    conv_first1 = keras.layers.LeakyReLU(alpha=0.01)(conv_first1)\n",
        "    conv_first1 = Conv2D(32, (4, 1), padding='same')(conv_first1)\n",
        "    conv_first1 = keras.layers.LeakyReLU(alpha=0.01)(conv_first1)\n",
        "    conv_first1 = Conv2D(32, (4, 1), padding='same')(conv_first1)\n",
        "    conv_first1 = keras.layers.LeakyReLU(alpha=0.01)(conv_first1)\n",
        "\n",
        "    # build the inception module\n",
        "    convsecond_1 = Conv2D(64, (1, 1), padding='same')(conv_first1)\n",
        "    convsecond_1 = keras.layers.LeakyReLU(alpha=0.01)(convsecond_1)\n",
        "    convsecond_1 = Conv2D(64, (3, 1), padding='same')(convsecond_1)\n",
        "    convsecond_1 = keras.layers.LeakyReLU(alpha=0.01)(convsecond_1)\n",
        "\n",
        "    convsecond_2 = Conv2D(64, (1, 1), padding='same')(conv_first1)\n",
        "    convsecond_2 = keras.layers.LeakyReLU(alpha=0.01)(convsecond_2)\n",
        "    convsecond_2 = Conv2D(64, (5, 1), padding='same')(convsecond_2)\n",
        "    convsecond_2 = keras.layers.LeakyReLU(alpha=0.01)(convsecond_2)\n",
        "\n",
        "    convsecond_3 = MaxPooling2D((3, 1), strides=(1, 1), padding='same')(conv_first1)\n",
        "    convsecond_3 = Conv2D(64, (1, 1), padding='same')(convsecond_3)\n",
        "    convsecond_3 = keras.layers.LeakyReLU(alpha=0.01)(convsecond_3)\n",
        "\n",
        "    convsecond_output = keras.layers.concatenate([convsecond_1, convsecond_2, convsecond_3], axis=3)\n",
        "    conv_reshape = Reshape((int(convsecond_output.shape[1]), int(convsecond_output.shape[3])))(convsecond_output)\n",
        "    conv_reshape = keras.layers.Dropout(0.2, noise_shape=(None, 1, int(conv_reshape.shape[2])))(conv_reshape, training=True)\n",
        "\n",
        "    # build the last LSTM layer\n",
        "    conv_lstm = LSTM(number_of_lstm)(conv_reshape)\n",
        "\n",
        "    # build the output layer\n",
        "    out = Dense(3, activation='softmax')(conv_lstm)\n",
        "\n",
        "    model = Model(inputs=input_lmd, outputs=out)\n",
        "    adam = keras.optimizers.Adam(lr=0.0001)\n",
        "    model.compile(optimizer=adam, loss='categorical_crossentropy', metrics=['accuracy'])\n",
        "\n",
        "    return model\n",
        "\n",
        "deeplob = create_deeplob(trainX_CNN.shape[1], trainX_CNN.shape[2], n_hiddens)\n",
        "deeplob.summary()"
      ],
      "metadata": {
        "colab": {
          "base_uri": "https://localhost:8080/"
        },
        "id": "k3dH8BwbBdlu",
        "outputId": "c687d994-d99f-4655-8650-9d7563557c4f"
      },
      "execution_count": null,
      "outputs": [
        {
          "output_type": "stream",
          "name": "stderr",
          "text": [
            "WARNING:absl:`lr` is deprecated in Keras optimizer, please use `learning_rate` or use the legacy optimizer, e.g.,tf.keras.optimizers.legacy.Adam.\n"
          ]
        },
        {
          "output_type": "stream",
          "name": "stdout",
          "text": [
            "Model: \"model\"\n",
            "__________________________________________________________________________________________________\n",
            " Layer (type)                Output Shape                 Param #   Connected to                  \n",
            "==================================================================================================\n",
            " input_1 (InputLayer)        [(None, 10, 40, 1)]          0         []                            \n",
            "                                                                                                  \n",
            " conv2d (Conv2D)             (None, 10, 20, 32)           96        ['input_1[0][0]']             \n",
            "                                                                                                  \n",
            " leaky_re_lu (LeakyReLU)     (None, 10, 20, 32)           0         ['conv2d[0][0]']              \n",
            "                                                                                                  \n",
            " conv2d_1 (Conv2D)           (None, 10, 20, 32)           4128      ['leaky_re_lu[0][0]']         \n",
            "                                                                                                  \n",
            " leaky_re_lu_1 (LeakyReLU)   (None, 10, 20, 32)           0         ['conv2d_1[0][0]']            \n",
            "                                                                                                  \n",
            " conv2d_2 (Conv2D)           (None, 10, 20, 32)           4128      ['leaky_re_lu_1[0][0]']       \n",
            "                                                                                                  \n",
            " leaky_re_lu_2 (LeakyReLU)   (None, 10, 20, 32)           0         ['conv2d_2[0][0]']            \n",
            "                                                                                                  \n",
            " conv2d_3 (Conv2D)           (None, 10, 10, 32)           2080      ['leaky_re_lu_2[0][0]']       \n",
            "                                                                                                  \n",
            " leaky_re_lu_3 (LeakyReLU)   (None, 10, 10, 32)           0         ['conv2d_3[0][0]']            \n",
            "                                                                                                  \n",
            " conv2d_4 (Conv2D)           (None, 10, 10, 32)           4128      ['leaky_re_lu_3[0][0]']       \n",
            "                                                                                                  \n",
            " leaky_re_lu_4 (LeakyReLU)   (None, 10, 10, 32)           0         ['conv2d_4[0][0]']            \n",
            "                                                                                                  \n",
            " conv2d_5 (Conv2D)           (None, 10, 10, 32)           4128      ['leaky_re_lu_4[0][0]']       \n",
            "                                                                                                  \n",
            " leaky_re_lu_5 (LeakyReLU)   (None, 10, 10, 32)           0         ['conv2d_5[0][0]']            \n",
            "                                                                                                  \n",
            " conv2d_6 (Conv2D)           (None, 10, 1, 32)            10272     ['leaky_re_lu_5[0][0]']       \n",
            "                                                                                                  \n",
            " leaky_re_lu_6 (LeakyReLU)   (None, 10, 1, 32)            0         ['conv2d_6[0][0]']            \n",
            "                                                                                                  \n",
            " conv2d_7 (Conv2D)           (None, 10, 1, 32)            4128      ['leaky_re_lu_6[0][0]']       \n",
            "                                                                                                  \n",
            " leaky_re_lu_7 (LeakyReLU)   (None, 10, 1, 32)            0         ['conv2d_7[0][0]']            \n",
            "                                                                                                  \n",
            " conv2d_8 (Conv2D)           (None, 10, 1, 32)            4128      ['leaky_re_lu_7[0][0]']       \n",
            "                                                                                                  \n",
            " leaky_re_lu_8 (LeakyReLU)   (None, 10, 1, 32)            0         ['conv2d_8[0][0]']            \n",
            "                                                                                                  \n",
            " conv2d_9 (Conv2D)           (None, 10, 1, 64)            2112      ['leaky_re_lu_8[0][0]']       \n",
            "                                                                                                  \n",
            " conv2d_11 (Conv2D)          (None, 10, 1, 64)            2112      ['leaky_re_lu_8[0][0]']       \n",
            "                                                                                                  \n",
            " leaky_re_lu_9 (LeakyReLU)   (None, 10, 1, 64)            0         ['conv2d_9[0][0]']            \n",
            "                                                                                                  \n",
            " leaky_re_lu_11 (LeakyReLU)  (None, 10, 1, 64)            0         ['conv2d_11[0][0]']           \n",
            "                                                                                                  \n",
            " max_pooling2d (MaxPooling2  (None, 10, 1, 32)            0         ['leaky_re_lu_8[0][0]']       \n",
            " D)                                                                                               \n",
            "                                                                                                  \n",
            " conv2d_10 (Conv2D)          (None, 10, 1, 64)            12352     ['leaky_re_lu_9[0][0]']       \n",
            "                                                                                                  \n",
            " conv2d_12 (Conv2D)          (None, 10, 1, 64)            20544     ['leaky_re_lu_11[0][0]']      \n",
            "                                                                                                  \n",
            " conv2d_13 (Conv2D)          (None, 10, 1, 64)            2112      ['max_pooling2d[0][0]']       \n",
            "                                                                                                  \n",
            " leaky_re_lu_10 (LeakyReLU)  (None, 10, 1, 64)            0         ['conv2d_10[0][0]']           \n",
            "                                                                                                  \n",
            " leaky_re_lu_12 (LeakyReLU)  (None, 10, 1, 64)            0         ['conv2d_12[0][0]']           \n",
            "                                                                                                  \n",
            " leaky_re_lu_13 (LeakyReLU)  (None, 10, 1, 64)            0         ['conv2d_13[0][0]']           \n",
            "                                                                                                  \n",
            " concatenate (Concatenate)   (None, 10, 1, 192)           0         ['leaky_re_lu_10[0][0]',      \n",
            "                                                                     'leaky_re_lu_12[0][0]',      \n",
            "                                                                     'leaky_re_lu_13[0][0]']      \n",
            "                                                                                                  \n",
            " reshape (Reshape)           (None, 10, 192)              0         ['concatenate[0][0]']         \n",
            "                                                                                                  \n",
            " dropout (Dropout)           (None, 10, 192)              0         ['reshape[0][0]']             \n",
            "                                                                                                  \n",
            " lstm (LSTM)                 (None, 64)                   65792     ['dropout[0][0]']             \n",
            "                                                                                                  \n",
            " dense (Dense)               (None, 3)                    195       ['lstm[0][0]']                \n",
            "                                                                                                  \n",
            "==================================================================================================\n",
            "Total params: 142435 (556.39 KB)\n",
            "Trainable params: 142435 (556.39 KB)\n",
            "Non-trainable params: 0 (0.00 Byte)\n",
            "__________________________________________________________________________________________________\n"
          ]
        }
      ]
    },
    {
      "cell_type": "code",
      "source": [
        "%%time\n",
        "\n",
        "model_checkpoint_callback = tf.keras.callbacks.ModelCheckpoint(\n",
        "    filepath=checkpoint_filepath,\n",
        "    save_weights_only=True,\n",
        "    monitor='val_loss',\n",
        "    mode='auto',\n",
        "    save_best_only=True)\n",
        "\n",
        "deeplob.fit(trainX_CNN, trainY_CNN, validation_data=(valX_CNN, valY_CNN),\n",
        "            epochs=200, batch_size=128, verbose=2, callbacks=[model_checkpoint_callback])"
      ],
      "metadata": {
        "colab": {
          "base_uri": "https://localhost:8080/",
          "height": 1000
        },
        "id": "9fbF-YRWBgG7",
        "outputId": "8b07e11d-0abf-4004-82aa-d56a2c78a2af"
      },
      "execution_count": null,
      "outputs": [
        {
          "output_type": "stream",
          "name": "stdout",
          "text": [
            "Epoch 1/200\n",
            "391/391 - 28s - loss: 0.9586 - accuracy: 0.4506 - val_loss: 1.1002 - val_accuracy: 0.4022 - 28s/epoch - 72ms/step\n",
            "Epoch 2/200\n",
            "391/391 - 6s - loss: 0.9228 - accuracy: 0.5164 - val_loss: 1.0844 - val_accuracy: 0.3994 - 6s/epoch - 15ms/step\n",
            "Epoch 3/200\n",
            "391/391 - 4s - loss: 0.8937 - accuracy: 0.5355 - val_loss: 1.0893 - val_accuracy: 0.4022 - 4s/epoch - 10ms/step\n",
            "Epoch 4/200\n",
            "391/391 - 4s - loss: 0.7751 - accuracy: 0.6185 - val_loss: 0.9868 - val_accuracy: 0.5033 - 4s/epoch - 11ms/step\n",
            "Epoch 5/200\n",
            "391/391 - 5s - loss: 0.6290 - accuracy: 0.7214 - val_loss: 0.8995 - val_accuracy: 0.5544 - 5s/epoch - 14ms/step\n",
            "Epoch 6/200\n",
            "391/391 - 4s - loss: 0.5597 - accuracy: 0.7588 - val_loss: 0.9990 - val_accuracy: 0.5138 - 4s/epoch - 10ms/step\n",
            "Epoch 7/200\n",
            "391/391 - 4s - loss: 0.5172 - accuracy: 0.7828 - val_loss: 0.9399 - val_accuracy: 0.5519 - 4s/epoch - 10ms/step\n",
            "Epoch 8/200\n",
            "391/391 - 5s - loss: 0.4818 - accuracy: 0.8014 - val_loss: 0.9787 - val_accuracy: 0.5526 - 5s/epoch - 13ms/step\n",
            "Epoch 9/200\n",
            "391/391 - 4s - loss: 0.4554 - accuracy: 0.8146 - val_loss: 1.0137 - val_accuracy: 0.5567 - 4s/epoch - 10ms/step\n",
            "Epoch 10/200\n",
            "391/391 - 4s - loss: 0.4273 - accuracy: 0.8301 - val_loss: 1.0127 - val_accuracy: 0.5401 - 4s/epoch - 10ms/step\n",
            "Epoch 11/200\n",
            "391/391 - 5s - loss: 0.4053 - accuracy: 0.8423 - val_loss: 1.0718 - val_accuracy: 0.5556 - 5s/epoch - 13ms/step\n",
            "Epoch 12/200\n",
            "391/391 - 4s - loss: 0.3837 - accuracy: 0.8546 - val_loss: 1.0800 - val_accuracy: 0.5684 - 4s/epoch - 11ms/step\n",
            "Epoch 13/200\n",
            "391/391 - 4s - loss: 0.3647 - accuracy: 0.8621 - val_loss: 1.1422 - val_accuracy: 0.5578 - 4s/epoch - 10ms/step\n",
            "Epoch 14/200\n",
            "391/391 - 5s - loss: 0.3464 - accuracy: 0.8696 - val_loss: 1.1347 - val_accuracy: 0.5630 - 5s/epoch - 13ms/step\n",
            "Epoch 15/200\n",
            "391/391 - 4s - loss: 0.3295 - accuracy: 0.8774 - val_loss: 1.2052 - val_accuracy: 0.5378 - 4s/epoch - 11ms/step\n",
            "Epoch 16/200\n",
            "391/391 - 4s - loss: 0.3098 - accuracy: 0.8860 - val_loss: 1.2366 - val_accuracy: 0.5487 - 4s/epoch - 10ms/step\n",
            "Epoch 17/200\n",
            "391/391 - 5s - loss: 0.2943 - accuracy: 0.8931 - val_loss: 1.2532 - val_accuracy: 0.5490 - 5s/epoch - 12ms/step\n",
            "Epoch 18/200\n",
            "391/391 - 5s - loss: 0.2858 - accuracy: 0.8962 - val_loss: 1.2434 - val_accuracy: 0.5594 - 5s/epoch - 12ms/step\n",
            "Epoch 19/200\n",
            "391/391 - 4s - loss: 0.2678 - accuracy: 0.9025 - val_loss: 1.3407 - val_accuracy: 0.5587 - 4s/epoch - 10ms/step\n",
            "Epoch 20/200\n",
            "391/391 - 4s - loss: 0.2619 - accuracy: 0.9064 - val_loss: 1.3857 - val_accuracy: 0.5505 - 4s/epoch - 11ms/step\n",
            "Epoch 21/200\n",
            "391/391 - 5s - loss: 0.2471 - accuracy: 0.9123 - val_loss: 1.4657 - val_accuracy: 0.5486 - 5s/epoch - 13ms/step\n",
            "Epoch 22/200\n",
            "391/391 - 4s - loss: 0.2429 - accuracy: 0.9128 - val_loss: 1.3277 - val_accuracy: 0.5384 - 4s/epoch - 10ms/step\n",
            "Epoch 23/200\n",
            "391/391 - 4s - loss: 0.2344 - accuracy: 0.9168 - val_loss: 1.4580 - val_accuracy: 0.5470 - 4s/epoch - 10ms/step\n",
            "Epoch 24/200\n",
            "391/391 - 5s - loss: 0.2249 - accuracy: 0.9204 - val_loss: 1.5111 - val_accuracy: 0.5413 - 5s/epoch - 13ms/step\n",
            "Epoch 25/200\n",
            "391/391 - 4s - loss: 0.2103 - accuracy: 0.9268 - val_loss: 1.4214 - val_accuracy: 0.5400 - 4s/epoch - 10ms/step\n",
            "Epoch 26/200\n",
            "391/391 - 4s - loss: 0.2068 - accuracy: 0.9271 - val_loss: 1.5864 - val_accuracy: 0.5137 - 4s/epoch - 10ms/step\n",
            "Epoch 27/200\n",
            "391/391 - 5s - loss: 0.2042 - accuracy: 0.9258 - val_loss: 1.5105 - val_accuracy: 0.5524 - 5s/epoch - 13ms/step\n",
            "Epoch 28/200\n",
            "391/391 - 4s - loss: 0.1896 - accuracy: 0.9330 - val_loss: 1.6104 - val_accuracy: 0.5353 - 4s/epoch - 10ms/step\n",
            "Epoch 29/200\n",
            "391/391 - 4s - loss: 0.1880 - accuracy: 0.9335 - val_loss: 1.5728 - val_accuracy: 0.5393 - 4s/epoch - 10ms/step\n",
            "Epoch 30/200\n",
            "391/391 - 5s - loss: 0.1762 - accuracy: 0.9371 - val_loss: 1.6140 - val_accuracy: 0.5397 - 5s/epoch - 13ms/step\n",
            "Epoch 31/200\n",
            "391/391 - 4s - loss: 0.1738 - accuracy: 0.9375 - val_loss: 1.6773 - val_accuracy: 0.5418 - 4s/epoch - 10ms/step\n",
            "Epoch 32/200\n",
            "391/391 - 4s - loss: 0.1732 - accuracy: 0.9373 - val_loss: 1.6453 - val_accuracy: 0.5386 - 4s/epoch - 10ms/step\n",
            "Epoch 33/200\n",
            "391/391 - 5s - loss: 0.1613 - accuracy: 0.9421 - val_loss: 1.7344 - val_accuracy: 0.5448 - 5s/epoch - 13ms/step\n",
            "Epoch 34/200\n",
            "391/391 - 4s - loss: 0.1554 - accuracy: 0.9448 - val_loss: 1.7631 - val_accuracy: 0.5455 - 4s/epoch - 11ms/step\n",
            "Epoch 35/200\n",
            "391/391 - 4s - loss: 0.1572 - accuracy: 0.9443 - val_loss: 1.7246 - val_accuracy: 0.5405 - 4s/epoch - 10ms/step\n",
            "Epoch 36/200\n",
            "391/391 - 5s - loss: 0.1548 - accuracy: 0.9438 - val_loss: 1.7884 - val_accuracy: 0.5451 - 5s/epoch - 12ms/step\n",
            "Epoch 37/200\n",
            "391/391 - 5s - loss: 0.1412 - accuracy: 0.9488 - val_loss: 1.8334 - val_accuracy: 0.5467 - 5s/epoch - 12ms/step\n",
            "Epoch 38/200\n",
            "391/391 - 4s - loss: 0.1411 - accuracy: 0.9495 - val_loss: 1.9165 - val_accuracy: 0.5346 - 4s/epoch - 10ms/step\n",
            "Epoch 39/200\n",
            "391/391 - 4s - loss: 0.1315 - accuracy: 0.9531 - val_loss: 1.9052 - val_accuracy: 0.5380 - 4s/epoch - 11ms/step\n",
            "Epoch 40/200\n",
            "391/391 - 5s - loss: 0.1293 - accuracy: 0.9538 - val_loss: 1.9018 - val_accuracy: 0.5315 - 5s/epoch - 12ms/step\n",
            "Epoch 41/200\n",
            "391/391 - 4s - loss: 0.1235 - accuracy: 0.9549 - val_loss: 1.9373 - val_accuracy: 0.5401 - 4s/epoch - 10ms/step\n",
            "Epoch 42/200\n",
            "391/391 - 4s - loss: 0.1255 - accuracy: 0.9543 - val_loss: 2.0506 - val_accuracy: 0.5454 - 4s/epoch - 11ms/step\n",
            "Epoch 43/200\n",
            "391/391 - 5s - loss: 0.1244 - accuracy: 0.9550 - val_loss: 1.9962 - val_accuracy: 0.5484 - 5s/epoch - 13ms/step\n",
            "Epoch 44/200\n",
            "391/391 - 4s - loss: 0.1262 - accuracy: 0.9545 - val_loss: 1.9783 - val_accuracy: 0.5456 - 4s/epoch - 10ms/step\n",
            "Epoch 45/200\n",
            "391/391 - 4s - loss: 0.1111 - accuracy: 0.9594 - val_loss: 2.0748 - val_accuracy: 0.5551 - 4s/epoch - 10ms/step\n",
            "Epoch 46/200\n",
            "391/391 - 5s - loss: 0.1203 - accuracy: 0.9566 - val_loss: 2.0435 - val_accuracy: 0.5490 - 5s/epoch - 13ms/step\n",
            "Epoch 47/200\n",
            "391/391 - 4s - loss: 0.1106 - accuracy: 0.9601 - val_loss: 2.1482 - val_accuracy: 0.5526 - 4s/epoch - 10ms/step\n",
            "Epoch 48/200\n",
            "391/391 - 4s - loss: 0.1069 - accuracy: 0.9620 - val_loss: 2.0907 - val_accuracy: 0.5498 - 4s/epoch - 10ms/step\n",
            "Epoch 49/200\n",
            "391/391 - 5s - loss: 0.1071 - accuracy: 0.9604 - val_loss: 2.1921 - val_accuracy: 0.5269 - 5s/epoch - 13ms/step\n",
            "Epoch 50/200\n",
            "391/391 - 4s - loss: 0.1086 - accuracy: 0.9609 - val_loss: 2.2862 - val_accuracy: 0.5372 - 4s/epoch - 10ms/step\n",
            "Epoch 51/200\n",
            "391/391 - 4s - loss: 0.1034 - accuracy: 0.9627 - val_loss: 2.2668 - val_accuracy: 0.5303 - 4s/epoch - 10ms/step\n",
            "Epoch 52/200\n"
          ]
        },
        {
          "output_type": "error",
          "ename": "KeyboardInterrupt",
          "evalue": "ignored",
          "traceback": [
            "\u001b[0;31m---------------------------------------------------------------------------\u001b[0m",
            "\u001b[0;31mKeyboardInterrupt\u001b[0m                         Traceback (most recent call last)",
            "\u001b[0;32m<timed exec>\u001b[0m in \u001b[0;36m<module>\u001b[0;34m\u001b[0m\n",
            "\u001b[0;32m/usr/local/lib/python3.10/dist-packages/keras/src/utils/traceback_utils.py\u001b[0m in \u001b[0;36merror_handler\u001b[0;34m(*args, **kwargs)\u001b[0m\n\u001b[1;32m     63\u001b[0m         \u001b[0mfiltered_tb\u001b[0m \u001b[0;34m=\u001b[0m \u001b[0;32mNone\u001b[0m\u001b[0;34m\u001b[0m\u001b[0;34m\u001b[0m\u001b[0m\n\u001b[1;32m     64\u001b[0m         \u001b[0;32mtry\u001b[0m\u001b[0;34m:\u001b[0m\u001b[0;34m\u001b[0m\u001b[0;34m\u001b[0m\u001b[0m\n\u001b[0;32m---> 65\u001b[0;31m             \u001b[0;32mreturn\u001b[0m \u001b[0mfn\u001b[0m\u001b[0;34m(\u001b[0m\u001b[0;34m*\u001b[0m\u001b[0margs\u001b[0m\u001b[0;34m,\u001b[0m \u001b[0;34m**\u001b[0m\u001b[0mkwargs\u001b[0m\u001b[0;34m)\u001b[0m\u001b[0;34m\u001b[0m\u001b[0;34m\u001b[0m\u001b[0m\n\u001b[0m\u001b[1;32m     66\u001b[0m         \u001b[0;32mexcept\u001b[0m \u001b[0mException\u001b[0m \u001b[0;32mas\u001b[0m \u001b[0me\u001b[0m\u001b[0;34m:\u001b[0m\u001b[0;34m\u001b[0m\u001b[0;34m\u001b[0m\u001b[0m\n\u001b[1;32m     67\u001b[0m             \u001b[0mfiltered_tb\u001b[0m \u001b[0;34m=\u001b[0m \u001b[0m_process_traceback_frames\u001b[0m\u001b[0;34m(\u001b[0m\u001b[0me\u001b[0m\u001b[0;34m.\u001b[0m\u001b[0m__traceback__\u001b[0m\u001b[0;34m)\u001b[0m\u001b[0;34m\u001b[0m\u001b[0;34m\u001b[0m\u001b[0m\n",
            "\u001b[0;32m/usr/local/lib/python3.10/dist-packages/keras/src/engine/training.py\u001b[0m in \u001b[0;36mfit\u001b[0;34m(self, x, y, batch_size, epochs, verbose, callbacks, validation_split, validation_data, shuffle, class_weight, sample_weight, initial_epoch, steps_per_epoch, validation_steps, validation_batch_size, validation_freq, max_queue_size, workers, use_multiprocessing)\u001b[0m\n\u001b[1;32m   1781\u001b[0m                         ):\n\u001b[1;32m   1782\u001b[0m                             \u001b[0mcallbacks\u001b[0m\u001b[0;34m.\u001b[0m\u001b[0mon_train_batch_begin\u001b[0m\u001b[0;34m(\u001b[0m\u001b[0mstep\u001b[0m\u001b[0;34m)\u001b[0m\u001b[0;34m\u001b[0m\u001b[0;34m\u001b[0m\u001b[0m\n\u001b[0;32m-> 1783\u001b[0;31m                             \u001b[0mtmp_logs\u001b[0m \u001b[0;34m=\u001b[0m \u001b[0mself\u001b[0m\u001b[0;34m.\u001b[0m\u001b[0mtrain_function\u001b[0m\u001b[0;34m(\u001b[0m\u001b[0miterator\u001b[0m\u001b[0;34m)\u001b[0m\u001b[0;34m\u001b[0m\u001b[0;34m\u001b[0m\u001b[0m\n\u001b[0m\u001b[1;32m   1784\u001b[0m                             \u001b[0;32mif\u001b[0m \u001b[0mdata_handler\u001b[0m\u001b[0;34m.\u001b[0m\u001b[0mshould_sync\u001b[0m\u001b[0;34m:\u001b[0m\u001b[0;34m\u001b[0m\u001b[0;34m\u001b[0m\u001b[0m\n\u001b[1;32m   1785\u001b[0m                                 \u001b[0mcontext\u001b[0m\u001b[0;34m.\u001b[0m\u001b[0masync_wait\u001b[0m\u001b[0;34m(\u001b[0m\u001b[0;34m)\u001b[0m\u001b[0;34m\u001b[0m\u001b[0;34m\u001b[0m\u001b[0m\n",
            "\u001b[0;32m/usr/local/lib/python3.10/dist-packages/tensorflow/python/util/traceback_utils.py\u001b[0m in \u001b[0;36merror_handler\u001b[0;34m(*args, **kwargs)\u001b[0m\n\u001b[1;32m    148\u001b[0m     \u001b[0mfiltered_tb\u001b[0m \u001b[0;34m=\u001b[0m \u001b[0;32mNone\u001b[0m\u001b[0;34m\u001b[0m\u001b[0;34m\u001b[0m\u001b[0m\n\u001b[1;32m    149\u001b[0m     \u001b[0;32mtry\u001b[0m\u001b[0;34m:\u001b[0m\u001b[0;34m\u001b[0m\u001b[0;34m\u001b[0m\u001b[0m\n\u001b[0;32m--> 150\u001b[0;31m       \u001b[0;32mreturn\u001b[0m \u001b[0mfn\u001b[0m\u001b[0;34m(\u001b[0m\u001b[0;34m*\u001b[0m\u001b[0margs\u001b[0m\u001b[0;34m,\u001b[0m \u001b[0;34m**\u001b[0m\u001b[0mkwargs\u001b[0m\u001b[0;34m)\u001b[0m\u001b[0;34m\u001b[0m\u001b[0;34m\u001b[0m\u001b[0m\n\u001b[0m\u001b[1;32m    151\u001b[0m     \u001b[0;32mexcept\u001b[0m \u001b[0mException\u001b[0m \u001b[0;32mas\u001b[0m \u001b[0me\u001b[0m\u001b[0;34m:\u001b[0m\u001b[0;34m\u001b[0m\u001b[0;34m\u001b[0m\u001b[0m\n\u001b[1;32m    152\u001b[0m       \u001b[0mfiltered_tb\u001b[0m \u001b[0;34m=\u001b[0m \u001b[0m_process_traceback_frames\u001b[0m\u001b[0;34m(\u001b[0m\u001b[0me\u001b[0m\u001b[0;34m.\u001b[0m\u001b[0m__traceback__\u001b[0m\u001b[0;34m)\u001b[0m\u001b[0;34m\u001b[0m\u001b[0;34m\u001b[0m\u001b[0m\n",
            "\u001b[0;32m/usr/local/lib/python3.10/dist-packages/tensorflow/python/eager/polymorphic_function/polymorphic_function.py\u001b[0m in \u001b[0;36m__call__\u001b[0;34m(self, *args, **kwds)\u001b[0m\n\u001b[1;32m    829\u001b[0m \u001b[0;34m\u001b[0m\u001b[0m\n\u001b[1;32m    830\u001b[0m       \u001b[0;32mwith\u001b[0m \u001b[0mOptionalXlaContext\u001b[0m\u001b[0;34m(\u001b[0m\u001b[0mself\u001b[0m\u001b[0;34m.\u001b[0m\u001b[0m_jit_compile\u001b[0m\u001b[0;34m)\u001b[0m\u001b[0;34m:\u001b[0m\u001b[0;34m\u001b[0m\u001b[0;34m\u001b[0m\u001b[0m\n\u001b[0;32m--> 831\u001b[0;31m         \u001b[0mresult\u001b[0m \u001b[0;34m=\u001b[0m \u001b[0mself\u001b[0m\u001b[0;34m.\u001b[0m\u001b[0m_call\u001b[0m\u001b[0;34m(\u001b[0m\u001b[0;34m*\u001b[0m\u001b[0margs\u001b[0m\u001b[0;34m,\u001b[0m \u001b[0;34m**\u001b[0m\u001b[0mkwds\u001b[0m\u001b[0;34m)\u001b[0m\u001b[0;34m\u001b[0m\u001b[0;34m\u001b[0m\u001b[0m\n\u001b[0m\u001b[1;32m    832\u001b[0m \u001b[0;34m\u001b[0m\u001b[0m\n\u001b[1;32m    833\u001b[0m       \u001b[0mnew_tracing_count\u001b[0m \u001b[0;34m=\u001b[0m \u001b[0mself\u001b[0m\u001b[0;34m.\u001b[0m\u001b[0mexperimental_get_tracing_count\u001b[0m\u001b[0;34m(\u001b[0m\u001b[0;34m)\u001b[0m\u001b[0;34m\u001b[0m\u001b[0;34m\u001b[0m\u001b[0m\n",
            "\u001b[0;32m/usr/local/lib/python3.10/dist-packages/tensorflow/python/eager/polymorphic_function/polymorphic_function.py\u001b[0m in \u001b[0;36m_call\u001b[0;34m(self, *args, **kwds)\u001b[0m\n\u001b[1;32m    865\u001b[0m       \u001b[0;31m# In this case we have created variables on the first call, so we run the\u001b[0m\u001b[0;34m\u001b[0m\u001b[0;34m\u001b[0m\u001b[0m\n\u001b[1;32m    866\u001b[0m       \u001b[0;31m# defunned version which is guaranteed to never create variables.\u001b[0m\u001b[0;34m\u001b[0m\u001b[0;34m\u001b[0m\u001b[0m\n\u001b[0;32m--> 867\u001b[0;31m       return tracing_compilation.call_function(\n\u001b[0m\u001b[1;32m    868\u001b[0m           \u001b[0margs\u001b[0m\u001b[0;34m,\u001b[0m \u001b[0mkwds\u001b[0m\u001b[0;34m,\u001b[0m \u001b[0mself\u001b[0m\u001b[0;34m.\u001b[0m\u001b[0m_no_variable_creation_config\u001b[0m\u001b[0;34m\u001b[0m\u001b[0;34m\u001b[0m\u001b[0m\n\u001b[1;32m    869\u001b[0m       )\n",
            "\u001b[0;32m/usr/local/lib/python3.10/dist-packages/tensorflow/python/eager/polymorphic_function/tracing_compilation.py\u001b[0m in \u001b[0;36mcall_function\u001b[0;34m(args, kwargs, tracing_options)\u001b[0m\n\u001b[1;32m    137\u001b[0m   \u001b[0mbound_args\u001b[0m \u001b[0;34m=\u001b[0m \u001b[0mfunction\u001b[0m\u001b[0;34m.\u001b[0m\u001b[0mfunction_type\u001b[0m\u001b[0;34m.\u001b[0m\u001b[0mbind\u001b[0m\u001b[0;34m(\u001b[0m\u001b[0;34m*\u001b[0m\u001b[0margs\u001b[0m\u001b[0;34m,\u001b[0m \u001b[0;34m**\u001b[0m\u001b[0mkwargs\u001b[0m\u001b[0;34m)\u001b[0m\u001b[0;34m\u001b[0m\u001b[0;34m\u001b[0m\u001b[0m\n\u001b[1;32m    138\u001b[0m   \u001b[0mflat_inputs\u001b[0m \u001b[0;34m=\u001b[0m \u001b[0mfunction\u001b[0m\u001b[0;34m.\u001b[0m\u001b[0mfunction_type\u001b[0m\u001b[0;34m.\u001b[0m\u001b[0munpack_inputs\u001b[0m\u001b[0;34m(\u001b[0m\u001b[0mbound_args\u001b[0m\u001b[0;34m)\u001b[0m\u001b[0;34m\u001b[0m\u001b[0;34m\u001b[0m\u001b[0m\n\u001b[0;32m--> 139\u001b[0;31m   return function._call_flat(  # pylint: disable=protected-access\n\u001b[0m\u001b[1;32m    140\u001b[0m       \u001b[0mflat_inputs\u001b[0m\u001b[0;34m,\u001b[0m \u001b[0mcaptured_inputs\u001b[0m\u001b[0;34m=\u001b[0m\u001b[0mfunction\u001b[0m\u001b[0;34m.\u001b[0m\u001b[0mcaptured_inputs\u001b[0m\u001b[0;34m\u001b[0m\u001b[0;34m\u001b[0m\u001b[0m\n\u001b[1;32m    141\u001b[0m   )\n",
            "\u001b[0;32m/usr/local/lib/python3.10/dist-packages/tensorflow/python/eager/polymorphic_function/concrete_function.py\u001b[0m in \u001b[0;36m_call_flat\u001b[0;34m(self, tensor_inputs, captured_inputs)\u001b[0m\n\u001b[1;32m   1262\u001b[0m         and executing_eagerly):\n\u001b[1;32m   1263\u001b[0m       \u001b[0;31m# No tape is watching; skip to running the function.\u001b[0m\u001b[0;34m\u001b[0m\u001b[0;34m\u001b[0m\u001b[0m\n\u001b[0;32m-> 1264\u001b[0;31m       \u001b[0;32mreturn\u001b[0m \u001b[0mself\u001b[0m\u001b[0;34m.\u001b[0m\u001b[0m_inference_function\u001b[0m\u001b[0;34m.\u001b[0m\u001b[0mflat_call\u001b[0m\u001b[0;34m(\u001b[0m\u001b[0margs\u001b[0m\u001b[0;34m)\u001b[0m\u001b[0;34m\u001b[0m\u001b[0;34m\u001b[0m\u001b[0m\n\u001b[0m\u001b[1;32m   1265\u001b[0m     forward_backward = self._select_forward_and_backward_functions(\n\u001b[1;32m   1266\u001b[0m         \u001b[0margs\u001b[0m\u001b[0;34m,\u001b[0m\u001b[0;34m\u001b[0m\u001b[0;34m\u001b[0m\u001b[0m\n",
            "\u001b[0;32m/usr/local/lib/python3.10/dist-packages/tensorflow/python/eager/polymorphic_function/atomic_function.py\u001b[0m in \u001b[0;36mflat_call\u001b[0;34m(self, args)\u001b[0m\n\u001b[1;32m    215\u001b[0m   \u001b[0;32mdef\u001b[0m \u001b[0mflat_call\u001b[0m\u001b[0;34m(\u001b[0m\u001b[0mself\u001b[0m\u001b[0;34m,\u001b[0m \u001b[0margs\u001b[0m\u001b[0;34m:\u001b[0m \u001b[0mSequence\u001b[0m\u001b[0;34m[\u001b[0m\u001b[0mcore\u001b[0m\u001b[0;34m.\u001b[0m\u001b[0mTensor\u001b[0m\u001b[0;34m]\u001b[0m\u001b[0;34m)\u001b[0m \u001b[0;34m->\u001b[0m \u001b[0mAny\u001b[0m\u001b[0;34m:\u001b[0m\u001b[0;34m\u001b[0m\u001b[0;34m\u001b[0m\u001b[0m\n\u001b[1;32m    216\u001b[0m     \u001b[0;34m\"\"\"Calls with tensor inputs and returns the structured output.\"\"\"\u001b[0m\u001b[0;34m\u001b[0m\u001b[0;34m\u001b[0m\u001b[0m\n\u001b[0;32m--> 217\u001b[0;31m     \u001b[0mflat_outputs\u001b[0m \u001b[0;34m=\u001b[0m \u001b[0mself\u001b[0m\u001b[0;34m(\u001b[0m\u001b[0;34m*\u001b[0m\u001b[0margs\u001b[0m\u001b[0;34m)\u001b[0m\u001b[0;34m\u001b[0m\u001b[0;34m\u001b[0m\u001b[0m\n\u001b[0m\u001b[1;32m    218\u001b[0m     \u001b[0;32mreturn\u001b[0m \u001b[0mself\u001b[0m\u001b[0;34m.\u001b[0m\u001b[0mfunction_type\u001b[0m\u001b[0;34m.\u001b[0m\u001b[0mpack_output\u001b[0m\u001b[0;34m(\u001b[0m\u001b[0mflat_outputs\u001b[0m\u001b[0;34m)\u001b[0m\u001b[0;34m\u001b[0m\u001b[0;34m\u001b[0m\u001b[0m\n\u001b[1;32m    219\u001b[0m \u001b[0;34m\u001b[0m\u001b[0m\n",
            "\u001b[0;32m/usr/local/lib/python3.10/dist-packages/tensorflow/python/eager/polymorphic_function/atomic_function.py\u001b[0m in \u001b[0;36m__call__\u001b[0;34m(self, *args)\u001b[0m\n\u001b[1;32m    250\u001b[0m         \u001b[0;32mwith\u001b[0m \u001b[0mrecord\u001b[0m\u001b[0;34m.\u001b[0m\u001b[0mstop_recording\u001b[0m\u001b[0;34m(\u001b[0m\u001b[0;34m)\u001b[0m\u001b[0;34m:\u001b[0m\u001b[0;34m\u001b[0m\u001b[0;34m\u001b[0m\u001b[0m\n\u001b[1;32m    251\u001b[0m           \u001b[0;32mif\u001b[0m \u001b[0mself\u001b[0m\u001b[0;34m.\u001b[0m\u001b[0m_bound_context\u001b[0m\u001b[0;34m.\u001b[0m\u001b[0mexecuting_eagerly\u001b[0m\u001b[0;34m(\u001b[0m\u001b[0;34m)\u001b[0m\u001b[0;34m:\u001b[0m\u001b[0;34m\u001b[0m\u001b[0;34m\u001b[0m\u001b[0m\n\u001b[0;32m--> 252\u001b[0;31m             outputs = self._bound_context.call_function(\n\u001b[0m\u001b[1;32m    253\u001b[0m                 \u001b[0mself\u001b[0m\u001b[0;34m.\u001b[0m\u001b[0mname\u001b[0m\u001b[0;34m,\u001b[0m\u001b[0;34m\u001b[0m\u001b[0;34m\u001b[0m\u001b[0m\n\u001b[1;32m    254\u001b[0m                 \u001b[0mlist\u001b[0m\u001b[0;34m(\u001b[0m\u001b[0margs\u001b[0m\u001b[0;34m)\u001b[0m\u001b[0;34m,\u001b[0m\u001b[0;34m\u001b[0m\u001b[0;34m\u001b[0m\u001b[0m\n",
            "\u001b[0;32m/usr/local/lib/python3.10/dist-packages/tensorflow/python/eager/context.py\u001b[0m in \u001b[0;36mcall_function\u001b[0;34m(self, name, tensor_inputs, num_outputs)\u001b[0m\n\u001b[1;32m   1477\u001b[0m     \u001b[0mcancellation_context\u001b[0m \u001b[0;34m=\u001b[0m \u001b[0mcancellation\u001b[0m\u001b[0;34m.\u001b[0m\u001b[0mcontext\u001b[0m\u001b[0;34m(\u001b[0m\u001b[0;34m)\u001b[0m\u001b[0;34m\u001b[0m\u001b[0;34m\u001b[0m\u001b[0m\n\u001b[1;32m   1478\u001b[0m     \u001b[0;32mif\u001b[0m \u001b[0mcancellation_context\u001b[0m \u001b[0;32mis\u001b[0m \u001b[0;32mNone\u001b[0m\u001b[0;34m:\u001b[0m\u001b[0;34m\u001b[0m\u001b[0;34m\u001b[0m\u001b[0m\n\u001b[0;32m-> 1479\u001b[0;31m       outputs = execute.execute(\n\u001b[0m\u001b[1;32m   1480\u001b[0m           \u001b[0mname\u001b[0m\u001b[0;34m.\u001b[0m\u001b[0mdecode\u001b[0m\u001b[0;34m(\u001b[0m\u001b[0;34m\"utf-8\"\u001b[0m\u001b[0;34m)\u001b[0m\u001b[0;34m,\u001b[0m\u001b[0;34m\u001b[0m\u001b[0;34m\u001b[0m\u001b[0m\n\u001b[1;32m   1481\u001b[0m           \u001b[0mnum_outputs\u001b[0m\u001b[0;34m=\u001b[0m\u001b[0mnum_outputs\u001b[0m\u001b[0;34m,\u001b[0m\u001b[0;34m\u001b[0m\u001b[0;34m\u001b[0m\u001b[0m\n",
            "\u001b[0;32m/usr/local/lib/python3.10/dist-packages/tensorflow/python/eager/execute.py\u001b[0m in \u001b[0;36mquick_execute\u001b[0;34m(op_name, num_outputs, inputs, attrs, ctx, name)\u001b[0m\n\u001b[1;32m     58\u001b[0m         \u001b[0;32mfor\u001b[0m \u001b[0mt\u001b[0m \u001b[0;32min\u001b[0m \u001b[0minputs\u001b[0m\u001b[0;34m\u001b[0m\u001b[0;34m\u001b[0m\u001b[0m\n\u001b[1;32m     59\u001b[0m     ]\n\u001b[0;32m---> 60\u001b[0;31m     tensors = pywrap_tfe.TFE_Py_Execute(ctx._handle, device_name, op_name,\n\u001b[0m\u001b[1;32m     61\u001b[0m                                         inputs, attrs, num_outputs)\n\u001b[1;32m     62\u001b[0m   \u001b[0;32mexcept\u001b[0m \u001b[0mcore\u001b[0m\u001b[0;34m.\u001b[0m\u001b[0m_NotOkStatusException\u001b[0m \u001b[0;32mas\u001b[0m \u001b[0me\u001b[0m\u001b[0;34m:\u001b[0m\u001b[0;34m\u001b[0m\u001b[0;34m\u001b[0m\u001b[0m\n",
            "\u001b[0;31mKeyboardInterrupt\u001b[0m: "
          ]
        }
      ]
    },
    {
      "cell_type": "code",
      "source": [],
      "metadata": {
        "id": "yD93LgPetOdU"
      },
      "execution_count": null,
      "outputs": []
    },
    {
      "cell_type": "code",
      "source": [
        "deeplob.load_weights(checkpoint_filepath)\n",
        "pred = deeplob.predict(testX_CNN)"
      ],
      "metadata": {
        "colab": {
          "base_uri": "https://localhost:8080/"
        },
        "id": "bOmfRAgeLqsQ",
        "outputId": "20e48536-20fa-4b76-d734-94b0d44348bd"
      },
      "execution_count": null,
      "outputs": [
        {
          "output_type": "stream",
          "name": "stdout",
          "text": [
            "625/625 [==============================] - 4s 5ms/step\n"
          ]
        }
      ]
    },
    {
      "cell_type": "code",
      "source": [
        "print('accuracy_score:', accuracy_score(np.argmax(testY_CNN, axis=1), np.argmax(pred, axis=1)))\n",
        "print(classification_report(np.argmax(testY_CNN, axis=1), np.argmax(pred, axis=1), digits=4))"
      ],
      "metadata": {
        "colab": {
          "base_uri": "https://localhost:8080/"
        },
        "id": "cm2K8edqL7EE",
        "outputId": "40602e31-73e9-4651-d547-3f1d2c3adb50"
      },
      "execution_count": null,
      "outputs": [
        {
          "output_type": "stream",
          "name": "stdout",
          "text": [
            "accuracy_score: 0.7796008203691661\n",
            "              precision    recall  f1-score   support\n",
            "\n",
            "           0     0.7919    0.7599    0.7755      7821\n",
            "           1     0.7793    0.8911    0.8315      5457\n",
            "           2     0.7651    0.7119    0.7376      6713\n",
            "\n",
            "    accuracy                         0.7796     19991\n",
            "   macro avg     0.7788    0.7876    0.7815     19991\n",
            "weighted avg     0.7795    0.7796    0.7781     19991\n",
            "\n"
          ]
        }
      ]
    },
    {
      "cell_type": "code",
      "source": [
        "from sklearn.metrics import accuracy_score, classification_report, confusion_matrix, ConfusionMatrixDisplay\n",
        "c = confusion_matrix(np.argmax(testY_CNN, axis=1), np.argmax(pred, axis=1), normalize=\"true\")\n",
        "disp = ConfusionMatrixDisplay(c)\n",
        "disp.plot()\n",
        "plt.show()"
      ],
      "metadata": {
        "colab": {
          "base_uri": "https://localhost:8080/",
          "height": 449
        },
        "id": "vdUaXAcjL-R1",
        "outputId": "2c155d8e-45c9-4b5c-8f32-8e3333e1b95c"
      },
      "execution_count": null,
      "outputs": [
        {
          "output_type": "display_data",
          "data": {
            "text/plain": [
              "<Figure size 640x480 with 2 Axes>"
            ],
            "image/png": "[encoded data removed]"
          },
          "metadata": {}
        }
      ]
    },
    {
      "cell_type": "code",
      "source": [
        "import matplotlib.pyplot as plt\n",
        "\n",
        "# Sample data from your training log\n",
        "train_loss = [0.9586, 0.9228, 0.8937, 0.7751, 0.6290, 0.5597, 0.5172, 0.4818, 0.4554, 0.4273,\n",
        "              0.4053, 0.3837, 0.3647, 0.3464, 0.3295, 0.3098, 0.2943, 0.2858, 0.2678, 0.2619,\n",
        "              0.2471, 0.2429, 0.2344, 0.2249, 0.2103, 0.2068, 0.2042, 0.1896, 0.1880, 0.1762,\n",
        "              0.1738, 0.1732, 0.1613, 0.1554, 0.1572, 0.1548, 0.1412, 0.1411, 0.1315, 0.1293,\n",
        "              0.1235, 0.1255, 0.1244, 0.1262, 0.1111, 0.1203, 0.1106, 0.1069, 0.1071, 0.1086,\n",
        "              0.1034]\n",
        "\n",
        "val_loss = [1.1002, 1.0844, 1.0893, 0.9868, 0.8995, 0.9990, 0.9399, 0.9787, 1.0137, 1.0127,\n",
        "            1.0718, 1.0800, 1.1422, 1.1347, 1.2052, 1.2366, 1.2532, 1.2434, 1.3407, 1.3857,\n",
        "            1.4657, 1.3277, 1.4580, 1.5111, 1.4214, 1.5864, 1.5105, 1.6104, 1.5728, 1.6140,\n",
        "            1.6773, 1.6453, 1.7344, 1.7631, 1.7246, 1.7884, 1.8334, 1.9165, 1.9052, 1.9018,\n",
        "            1.9373, 2.0506, 1.9962, 1.9783, 2.0748, 2.0435, 2.1482, 2.0907, 2.1921, 2.2862,\n",
        "            2.2668]\n",
        "\n",
        "train_accuracy = [0.4506, 0.5164, 0.5355, 0.6185, 0.7214, 0.7588, 0.7828, 0.8014, 0.8146, 0.8301,\n",
        "                  0.8423, 0.8546, 0.8621, 0.8696, 0.8774, 0.8860, 0.8931, 0.8962, 0.9025, 0.9064,\n",
        "                  0.9123, 0.9128, 0.9168, 0.9204, 0.9268, 0.9271, 0.9258, 0.9330, 0.9335, 0.9371,\n",
        "                  0.9375, 0.9373, 0.9421, 0.9448, 0.9443, 0.9438, 0.9488, 0.9495, 0.9531, 0.9538,\n",
        "                  0.9549, 0.9543, 0.9550, 0.9545, 0.9594, 0.9566, 0.9601, 0.9620, 0.9604, 0.9609,\n",
        "                  0.9627]\n",
        "\n",
        "val_accuracy = [0.4022, 0.3994, 0.4022, 0.5033, 0.5544, 0.5138, 0.5519, 0.5526, 0.5567, 0.5401,\n",
        "                0.5556, 0.5684, 0.5578, 0.5630, 0.5378, 0.5487, 0.5490, 0.5594, 0.5587, 0.5505,\n",
        "                0.5486, 0.5384, 0.5470, 0.5413, 0.5400, 0.5137, 0.5524, 0.5353, 0.5393, 0.5397,\n",
        "                0.5418, 0.5386, 0.5448, 0.5455, 0.5405, 0.5451, 0.5467, 0.5346, 0.5380, 0.5315,\n",
        "                0.5401, 0.5454, 0.5484, 0.5456, 0.5551, 0.5490, 0.5526, 0.5498, 0.5269, 0.5372,\n",
        "                0.5303]\n",
        "epochs = list(range(1, 52))\n",
        "# Plot training and validation loss\n",
        "plt.figure(figsize=(12, 4))\n",
        "plt.subplot(1, 2, 1)\n",
        "plt.plot(epochs, train_loss, label='Training Loss')\n",
        "plt.plot(epochs, val_loss, label='Validation Loss')\n",
        "plt.title('Training and Validation Loss')\n",
        "plt.xlabel('Epoch')\n",
        "plt.ylabel('Loss')\n",
        "plt.legend()\n",
        "\n",
        "# Plot training and validation accuracy\n",
        "plt.subplot(1, 2, 2)\n",
        "plt.plot(epochs, train_accuracy, label='Training Accuracy')\n",
        "plt.plot(epochs, val_accuracy, label='Validation Accuracy')\n",
        "plt.title('Training and Validation Accuracy')\n",
        "plt.xlabel('Epoch')\n",
        "plt.ylabel('Accuracy')\n",
        "plt.legend()\n",
        "\n",
        "plt.tight_layout()\n",
        "plt.show()\n"
      ],
      "metadata": {
        "colab": {
          "base_uri": "https://localhost:8080/",
          "height": 246
        },
        "id": "9RtfJ9JptQFu",
        "outputId": "efcafaa3-2266-4758-af77-f15d2e3f0260"
      },
      "execution_count": null,
      "outputs": [
        {
          "output_type": "display_data",
          "data": {
            "text/plain": [
              "<Figure size 1200x400 with 2 Axes>"
            ],
            "image/png": "[encoded data removed]"
          },
          "metadata": {}
        }
      ]
    }
  ]
}