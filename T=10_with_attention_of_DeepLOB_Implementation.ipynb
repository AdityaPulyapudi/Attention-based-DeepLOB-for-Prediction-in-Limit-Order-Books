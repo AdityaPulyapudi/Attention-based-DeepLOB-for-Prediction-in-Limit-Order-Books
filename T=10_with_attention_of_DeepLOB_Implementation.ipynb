{
  "nbformat": 4,
  "nbformat_minor": 0,
  "metadata": {
    "colab": {
      "provenance": []
    },
    "kernelspec": {
      "name": "python3",
      "display_name": "Python 3"
    },
    "language_info": {
      "name": "python"
    }
  },
  "cells": [
    {
      "cell_type": "code",
      "execution_count": 1,
      "metadata": {
        "id": "HE8wSgKA-zUK",
        "colab": {
          "base_uri": "https://localhost:8080/"
        },
        "outputId": "9821c070-d7b2-4a86-b307-40e9de6ae5c5"
      },
      "outputs": [
        {
          "output_type": "stream",
          "name": "stdout",
          "text": [
            "Mounted at /content/drive\n"
          ]
        }
      ],
      "source": [
        "from google.colab import drive\n",
        "drive.mount('/content/drive')"
      ]
    },
    {
      "cell_type": "code",
      "source": [
        "import torch\n",
        "device = torch.device(\"cuda:0\" if torch.cuda.is_available() else \"cpu\")\n",
        "print(device)"
      ],
      "metadata": {
        "colab": {
          "base_uri": "https://localhost:8080/"
        },
        "id": "eD5q_zh7Axpd",
        "outputId": "cff177ce-ab71-4906-9232-5f3a864b517a"
      },
      "execution_count": null,
      "outputs": [
        {
          "output_type": "stream",
          "name": "stdout",
          "text": [
            "cuda:0\n"
          ]
        }
      ]
    },
    {
      "cell_type": "code",
      "source": [
        "import numpy as np\n",
        "\n",
        "dec_data = np.loadtxt('/content/drive/MyDrive/Copy of Train_Dst_NoAuction_DecPre_CF_7.txt')\n",
        "dec_train = dec_data[:, :int(np.floor(dec_data.shape[1] * 0.8))]\n",
        "dec_val = dec_data[:, int(np.floor(dec_data.shape[1] * 0.8)):]\n",
        "\n",
        "dec_test1 = np.loadtxt('/content/drive/MyDrive/Copy of Test_Dst_NoAuction_DecPre_CF_7.txt')\n",
        "dec_test2 = np.loadtxt('/content/drive/MyDrive/Copy of Test_Dst_NoAuction_DecPre_CF_8.txt')\n",
        "dec_test3 = np.loadtxt('/content/drive/MyDrive/Copy of Test_Dst_NoAuction_DecPre_CF_8.txt')\n",
        "dec_test = np.hstack((dec_test1, dec_test2, dec_test3))\n",
        "\n",
        "print(dec_data.shape)\n",
        "print(dec_train.shape)\n",
        "print(dec_val.shape)\n",
        "print(dec_test.shape)"
      ],
      "metadata": {
        "colab": {
          "base_uri": "https://localhost:8080/"
        },
        "id": "M9qS_jUeA0l4",
        "outputId": "6102021e-8671-4154-fe91-0e0fc1dee260"
      },
      "execution_count": null,
      "outputs": [
        {
          "output_type": "stream",
          "name": "stdout",
          "text": [
            "(149, 254750)\n",
            "(149, 203800)\n",
            "(149, 50950)\n",
            "(149, 159822)\n"
          ]
        }
      ]
    },
    {
      "cell_type": "code",
      "source": [
        "# load packages\n",
        "import pandas as pd\n",
        "import pickle\n",
        "import numpy as np\n",
        "import keras\n",
        "import tensorflow as tf\n",
        "from keras import backend as K\n",
        "from keras.models import load_model, Model\n",
        "from keras.layers import Flatten, Dense, Dropout, Activation, Input, LSTM, Reshape, Conv2D, MaxPooling2D\n",
        "from keras.optimizers import Adam\n",
        "from keras.layers import LeakyReLU\n",
        "# from keras.layers.advanced_activations import LeakyReLU\n",
        "from keras.utils import to_categorical\n",
        "# from keras.utils import np_utils\n",
        "\n",
        "from sklearn.metrics import classification_report, accuracy_score\n",
        "import matplotlib.pyplot as plt\n",
        "\n",
        "# set random seeds\n",
        "np.random.seed(1)\n",
        "tf.random.set_seed(2)"
      ],
      "metadata": {
        "id": "QoQe5U4yBOTP"
      },
      "execution_count": null,
      "outputs": []
    },
    {
      "cell_type": "code",
      "source": [
        "def prepare_x(data):\n",
        "    df1 = data[:40, :].T\n",
        "    return np.array(df1)\n",
        "\n",
        "def get_label(data):\n",
        "    lob = data[-5:, :].T\n",
        "    return lob\n",
        "\n",
        "def data_classification(X, Y, T):\n",
        "    [N, D] = X.shape\n",
        "    df = np.array(X)\n",
        "    dY = np.array(Y)\n",
        "    dataY = dY[T - 1:N]\n",
        "    dataX = np.zeros((N - T + 1, T, D))\n",
        "    for i in range(T, N + 1):\n",
        "        dataX[i - T] = df[i - T:i, :]\n",
        "    return dataX.reshape(dataX.shape + (1,)), dataY\n",
        "\n",
        "def prepare_x_y(data, k, T):\n",
        "    x = prepare_x(data)\n",
        "    y = get_label(data)\n",
        "    x, y = data_classification(x, y, T=T)\n",
        "    y = y[:,k] - 1\n",
        "    y = to_categorical(y, 3)\n",
        "    return x, y"
      ],
      "metadata": {
        "id": "5a1ZNnSjBQ7q"
      },
      "execution_count": null,
      "outputs": []
    },
    {
      "cell_type": "code",
      "source": [
        "import tensorflow as tf\n",
        "from tensorflow.keras.layers import Layer\n",
        "\n",
        "class AttentionLayer(Layer):\n",
        "    def __init__(self, **kwargs):\n",
        "        super(AttentionLayer, self).__init__(**kwargs)\n",
        "\n",
        "    def build(self, input_shape):\n",
        "        # Create a trainable weight variable for this layer.\n",
        "        self.W = self.add_weight(name='attention_weight',\n",
        "                                 shape=(input_shape[-1], input_shape[-1]),\n",
        "                                 initializer='random_normal',\n",
        "                                 trainable=True)\n",
        "        super(AttentionLayer, self).build(input_shape)\n",
        "\n",
        "    def call(self, x):\n",
        "        # Calculate attention scores\n",
        "        e = tf.keras.backend.dot(x, self.W)\n",
        "\n",
        "        # Calculate attention weights using softmax activation\n",
        "        a = tf.keras.activations.softmax(e, axis=-2)\n",
        "\n",
        "        # Apply attention weights to the input sequence\n",
        "        output = x * a\n",
        "\n",
        "        # Sum the weighted inputs to get the attention output\n",
        "        output = tf.keras.backend.sum(output, axis=-2)\n",
        "\n",
        "        return output\n",
        "\n",
        "    def compute_output_shape(self, input_shape):\n",
        "        return input_shape\n"
      ],
      "metadata": {
        "id": "r4FvlMRHGm97"
      },
      "execution_count": null,
      "outputs": []
    },
    {
      "cell_type": "code",
      "source": [
        "k = 4 # which prediction horizon\n",
        "T = 10 # the length of a single input i. e lookback_timestep THIS HYPERPARAMETER IS FINE TUNED FOR MODEL CONVERGENCE\n",
        "n_hiddens = 64\n",
        "checkpoint_filepath = '/content/drive/MyDrive/path_to_your_model_checkpoints/'\n",
        "# checkpoint_filepath = './model_tensorflow2/weights'"
      ],
      "metadata": {
        "id": "gE7CLstKBSpr"
      },
      "execution_count": null,
      "outputs": []
    },
    {
      "cell_type": "code",
      "source": [
        "# Training Dataset Shrinking\n",
        "dec_train = dec_train[:,:50000]\n",
        "print(dec_train.shape)\n",
        "trainX_CNN, trainY_CNN = prepare_x_y(dec_train, k, T)\n",
        "print(trainX_CNN.shape, trainY_CNN.shape)"
      ],
      "metadata": {
        "colab": {
          "base_uri": "https://localhost:8080/"
        },
        "id": "NubSWmNjBWD4",
        "outputId": "ae75e222-f0c9-4f5e-f4be-20f7972d6561"
      },
      "execution_count": null,
      "outputs": [
        {
          "output_type": "stream",
          "name": "stdout",
          "text": [
            "(149, 50000)\n",
            "(49991, 10, 40, 1) (49991, 3)\n"
          ]
        }
      ]
    },
    {
      "cell_type": "code",
      "source": [
        "# Testing Dataset Shrinking\n",
        "dec_test = dec_test[:,:20000]\n",
        "print(dec_test.shape)\n",
        "testX_CNN, testY_CNN = prepare_x_y(dec_test, k, T)\n",
        "print(testX_CNN.shape, testY_CNN.shape)"
      ],
      "metadata": {
        "colab": {
          "base_uri": "https://localhost:8080/"
        },
        "id": "bI2kVMq3BYOe",
        "outputId": "33b2d6ff-d344-40c1-8878-50433ed37c72"
      },
      "execution_count": null,
      "outputs": [
        {
          "output_type": "stream",
          "name": "stdout",
          "text": [
            "(149, 20000)\n",
            "(19991, 10, 40, 1) (19991, 3)\n"
          ]
        }
      ]
    },
    {
      "cell_type": "code",
      "source": [
        "\n",
        "# Validation Dataset Shrinking\n",
        "dec_val = dec_val[:,:10000]\n",
        "print(dec_val.shape)\n",
        "valX_CNN, valY_CNN = prepare_x_y(dec_val, k, T)\n",
        "print(valX_CNN.shape, valY_CNN.shape)"
      ],
      "metadata": {
        "colab": {
          "base_uri": "https://localhost:8080/"
        },
        "id": "d8WN89lWBZ1p",
        "outputId": "d0afece4-2947-4d60-cb4f-c0c14294e095"
      },
      "execution_count": null,
      "outputs": [
        {
          "output_type": "stream",
          "name": "stdout",
          "text": [
            "(149, 10000)\n",
            "(9991, 10, 40, 1) (9991, 3)\n"
          ]
        }
      ]
    },
    {
      "cell_type": "code",
      "source": [
        "print(trainX_CNN.shape, trainY_CNN.shape)\n",
        "print(valX_CNN.shape, valY_CNN.shape)\n",
        "print(testX_CNN.shape, testY_CNN.shape)"
      ],
      "metadata": {
        "colab": {
          "base_uri": "https://localhost:8080/"
        },
        "id": "_vUIbc0zBbvk",
        "outputId": "20a365ed-fbfd-44ee-edd9-e2e9a99625fb"
      },
      "execution_count": null,
      "outputs": [
        {
          "output_type": "stream",
          "name": "stdout",
          "text": [
            "(49991, 10, 40, 1) (49991, 3)\n",
            "(9991, 10, 40, 1) (9991, 3)\n",
            "(19991, 10, 40, 1) (19991, 3)\n"
          ]
        }
      ]
    },
    {
      "cell_type": "code",
      "source": [
        "def create_deeplob(T, NF, number_of_lstm):\n",
        "    input_lmd = Input(shape=(T, NF, 1))\n",
        "\n",
        "    # build the convolutional block\n",
        "    conv_first1 = Conv2D(32, (1, 2), strides=(1, 2))(input_lmd)\n",
        "    conv_first1 = keras.layers.LeakyReLU(alpha=0.01)(conv_first1)\n",
        "    conv_first1 = Conv2D(32, (4, 1), padding='same')(conv_first1)\n",
        "    conv_first1 = keras.layers.LeakyReLU(alpha=0.01)(conv_first1)\n",
        "    conv_first1 = Conv2D(32, (4, 1), padding='same')(conv_first1)\n",
        "    conv_first1 = keras.layers.LeakyReLU(alpha=0.01)(conv_first1)\n",
        "\n",
        "    conv_first1 = Conv2D(32, (1, 2), strides=(1, 2))(conv_first1)\n",
        "    conv_first1 = keras.layers.LeakyReLU(alpha=0.01)(conv_first1)\n",
        "    conv_first1 = Conv2D(32, (4, 1), padding='same')(conv_first1)\n",
        "    conv_first1 = keras.layers.LeakyReLU(alpha=0.01)(conv_first1)\n",
        "    conv_first1 = Conv2D(32, (4, 1), padding='same')(conv_first1)\n",
        "    conv_first1 = keras.layers.LeakyReLU(alpha=0.01)(conv_first1)\n",
        "\n",
        "    conv_first1 = Conv2D(32, (1, 10))(conv_first1)\n",
        "    conv_first1 = keras.layers.LeakyReLU(alpha=0.01)(conv_first1)\n",
        "    conv_first1 = Conv2D(32, (4, 1), padding='same')(conv_first1)\n",
        "    conv_first1 = keras.layers.LeakyReLU(alpha=0.01)(conv_first1)\n",
        "    conv_first1 = Conv2D(32, (4, 1), padding='same')(conv_first1)\n",
        "    conv_first1 = keras.layers.LeakyReLU(alpha=0.01)(conv_first1)\n",
        "\n",
        "    # build the inception module\n",
        "    convsecond_1 = Conv2D(64, (1, 1), padding='same')(conv_first1)\n",
        "    convsecond_1 = keras.layers.LeakyReLU(alpha=0.01)(convsecond_1)\n",
        "    convsecond_1 = Conv2D(64, (3, 1), padding='same')(convsecond_1)\n",
        "    convsecond_1 = keras.layers.LeakyReLU(alpha=0.01)(convsecond_1)\n",
        "\n",
        "    convsecond_2 = Conv2D(64, (1, 1), padding='same')(conv_first1)\n",
        "    convsecond_2 = keras.layers.LeakyReLU(alpha=0.01)(convsecond_2)\n",
        "    convsecond_2 = Conv2D(64, (5, 1), padding='same')(convsecond_2)\n",
        "    convsecond_2 = keras.layers.LeakyReLU(alpha=0.01)(convsecond_2)\n",
        "\n",
        "    convsecond_3 = MaxPooling2D((3, 1), strides=(1, 1), padding='same')(conv_first1)\n",
        "    convsecond_3 = Conv2D(64, (1, 1), padding='same')(convsecond_3)\n",
        "    convsecond_3 = keras.layers.LeakyReLU(alpha=0.01)(convsecond_3)\n",
        "\n",
        "    convsecond_output = keras.layers.concatenate([convsecond_1, convsecond_2, convsecond_3], axis=3)\n",
        "    conv_reshape = Reshape((int(convsecond_output.shape[1]), int(convsecond_output.shape[3])))(convsecond_output)\n",
        "    conv_reshape = keras.layers.Dropout(0.2, noise_shape=(None, 1, int(conv_reshape.shape[2])))(conv_reshape, training=True)\n",
        "\n",
        "    # build the last LSTM layer\n",
        "    conv_lstm = LSTM(number_of_lstm, return_sequences=True)(conv_reshape)\n",
        "\n",
        "    # add an attention layer\n",
        "    attention_output = AttentionLayer()(conv_lstm)\n",
        "\n",
        "    # build the output layer\n",
        "    out = Dense(3, activation='softmax')(attention_output)\n",
        "\n",
        "    model = Model(inputs=input_lmd, outputs=out)\n",
        "    adam = keras.optimizers.Adam(lr=0.0001)\n",
        "    model.compile(optimizer=adam, loss='categorical_crossentropy', metrics=['accuracy'])\n",
        "\n",
        "    return model\n",
        "\n",
        "deeplob = create_deeplob(trainX_CNN.shape[1], trainX_CNN.shape[2], n_hiddens)\n",
        "deeplob.summary()"
      ],
      "metadata": {
        "colab": {
          "base_uri": "https://localhost:8080/"
        },
        "id": "k3dH8BwbBdlu",
        "outputId": "5664bb64-60ca-46b5-f37d-d8e3fdf01075"
      },
      "execution_count": null,
      "outputs": [
        {
          "output_type": "stream",
          "name": "stderr",
          "text": [
            "WARNING:absl:`lr` is deprecated in Keras optimizer, please use `learning_rate` or use the legacy optimizer, e.g.,tf.keras.optimizers.legacy.Adam.\n"
          ]
        },
        {
          "output_type": "stream",
          "name": "stdout",
          "text": [
            "Model: \"model\"\n",
            "__________________________________________________________________________________________________\n",
            " Layer (type)                Output Shape                 Param #   Connected to                  \n",
            "==================================================================================================\n",
            " input_1 (InputLayer)        [(None, 10, 40, 1)]          0         []                            \n",
            "                                                                                                  \n",
            " conv2d (Conv2D)             (None, 10, 20, 32)           96        ['input_1[0][0]']             \n",
            "                                                                                                  \n",
            " leaky_re_lu (LeakyReLU)     (None, 10, 20, 32)           0         ['conv2d[0][0]']              \n",
            "                                                                                                  \n",
            " conv2d_1 (Conv2D)           (None, 10, 20, 32)           4128      ['leaky_re_lu[0][0]']         \n",
            "                                                                                                  \n",
            " leaky_re_lu_1 (LeakyReLU)   (None, 10, 20, 32)           0         ['conv2d_1[0][0]']            \n",
            "                                                                                                  \n",
            " conv2d_2 (Conv2D)           (None, 10, 20, 32)           4128      ['leaky_re_lu_1[0][0]']       \n",
            "                                                                                                  \n",
            " leaky_re_lu_2 (LeakyReLU)   (None, 10, 20, 32)           0         ['conv2d_2[0][0]']            \n",
            "                                                                                                  \n",
            " conv2d_3 (Conv2D)           (None, 10, 10, 32)           2080      ['leaky_re_lu_2[0][0]']       \n",
            "                                                                                                  \n",
            " leaky_re_lu_3 (LeakyReLU)   (None, 10, 10, 32)           0         ['conv2d_3[0][0]']            \n",
            "                                                                                                  \n",
            " conv2d_4 (Conv2D)           (None, 10, 10, 32)           4128      ['leaky_re_lu_3[0][0]']       \n",
            "                                                                                                  \n",
            " leaky_re_lu_4 (LeakyReLU)   (None, 10, 10, 32)           0         ['conv2d_4[0][0]']            \n",
            "                                                                                                  \n",
            " conv2d_5 (Conv2D)           (None, 10, 10, 32)           4128      ['leaky_re_lu_4[0][0]']       \n",
            "                                                                                                  \n",
            " leaky_re_lu_5 (LeakyReLU)   (None, 10, 10, 32)           0         ['conv2d_5[0][0]']            \n",
            "                                                                                                  \n",
            " conv2d_6 (Conv2D)           (None, 10, 1, 32)            10272     ['leaky_re_lu_5[0][0]']       \n",
            "                                                                                                  \n",
            " leaky_re_lu_6 (LeakyReLU)   (None, 10, 1, 32)            0         ['conv2d_6[0][0]']            \n",
            "                                                                                                  \n",
            " conv2d_7 (Conv2D)           (None, 10, 1, 32)            4128      ['leaky_re_lu_6[0][0]']       \n",
            "                                                                                                  \n",
            " leaky_re_lu_7 (LeakyReLU)   (None, 10, 1, 32)            0         ['conv2d_7[0][0]']            \n",
            "                                                                                                  \n",
            " conv2d_8 (Conv2D)           (None, 10, 1, 32)            4128      ['leaky_re_lu_7[0][0]']       \n",
            "                                                                                                  \n",
            " leaky_re_lu_8 (LeakyReLU)   (None, 10, 1, 32)            0         ['conv2d_8[0][0]']            \n",
            "                                                                                                  \n",
            " conv2d_9 (Conv2D)           (None, 10, 1, 64)            2112      ['leaky_re_lu_8[0][0]']       \n",
            "                                                                                                  \n",
            " conv2d_11 (Conv2D)          (None, 10, 1, 64)            2112      ['leaky_re_lu_8[0][0]']       \n",
            "                                                                                                  \n",
            " leaky_re_lu_9 (LeakyReLU)   (None, 10, 1, 64)            0         ['conv2d_9[0][0]']            \n",
            "                                                                                                  \n",
            " leaky_re_lu_11 (LeakyReLU)  (None, 10, 1, 64)            0         ['conv2d_11[0][0]']           \n",
            "                                                                                                  \n",
            " max_pooling2d (MaxPooling2  (None, 10, 1, 32)            0         ['leaky_re_lu_8[0][0]']       \n",
            " D)                                                                                               \n",
            "                                                                                                  \n",
            " conv2d_10 (Conv2D)          (None, 10, 1, 64)            12352     ['leaky_re_lu_9[0][0]']       \n",
            "                                                                                                  \n",
            " conv2d_12 (Conv2D)          (None, 10, 1, 64)            20544     ['leaky_re_lu_11[0][0]']      \n",
            "                                                                                                  \n",
            " conv2d_13 (Conv2D)          (None, 10, 1, 64)            2112      ['max_pooling2d[0][0]']       \n",
            "                                                                                                  \n",
            " leaky_re_lu_10 (LeakyReLU)  (None, 10, 1, 64)            0         ['conv2d_10[0][0]']           \n",
            "                                                                                                  \n",
            " leaky_re_lu_12 (LeakyReLU)  (None, 10, 1, 64)            0         ['conv2d_12[0][0]']           \n",
            "                                                                                                  \n",
            " leaky_re_lu_13 (LeakyReLU)  (None, 10, 1, 64)            0         ['conv2d_13[0][0]']           \n",
            "                                                                                                  \n",
            " concatenate (Concatenate)   (None, 10, 1, 192)           0         ['leaky_re_lu_10[0][0]',      \n",
            "                                                                     'leaky_re_lu_12[0][0]',      \n",
            "                                                                     'leaky_re_lu_13[0][0]']      \n",
            "                                                                                                  \n",
            " reshape (Reshape)           (None, 10, 192)              0         ['concatenate[0][0]']         \n",
            "                                                                                                  \n",
            " dropout (Dropout)           (None, 10, 192)              0         ['reshape[0][0]']             \n",
            "                                                                                                  \n",
            " lstm (LSTM)                 (None, 10, 64)               65792     ['dropout[0][0]']             \n",
            "                                                                                                  \n",
            " attention_layer (Attention  (None, 64)                   4096      ['lstm[0][0]']                \n",
            " Layer)                                                                                           \n",
            "                                                                                                  \n",
            " dense (Dense)               (None, 3)                    195       ['attention_layer[0][0]']     \n",
            "                                                                                                  \n",
            "==================================================================================================\n",
            "Total params: 146531 (572.39 KB)\n",
            "Trainable params: 146531 (572.39 KB)\n",
            "Non-trainable params: 0 (0.00 Byte)\n",
            "__________________________________________________________________________________________________\n"
          ]
        }
      ]
    },
    {
      "cell_type": "code",
      "source": [
        "%%time\n",
        "\n",
        "model_checkpoint_callback = tf.keras.callbacks.ModelCheckpoint(\n",
        "    filepath=checkpoint_filepath,\n",
        "    save_weights_only=True,\n",
        "    monitor='val_loss',\n",
        "    mode='auto',\n",
        "    save_best_only=True)\n",
        "\n",
        "deeplob.fit(trainX_CNN, trainY_CNN, validation_data=(valX_CNN, valY_CNN),\n",
        "            epochs=50, batch_size=128, verbose=2, callbacks=[model_checkpoint_callback])"
      ],
      "metadata": {
        "colab": {
          "base_uri": "https://localhost:8080/"
        },
        "id": "9fbF-YRWBgG7",
        "outputId": "69933572-6313-4d43-82c3-4c07525aaf45"
      },
      "execution_count": null,
      "outputs": [
        {
          "output_type": "stream",
          "name": "stdout",
          "text": [
            "Epoch 1/50\n",
            "391/391 - 23s - loss: 0.9600 - accuracy: 0.4493 - val_loss: 1.0880 - val_accuracy: 0.4022 - 23s/epoch - 60ms/step\n",
            "Epoch 2/50\n",
            "391/391 - 4s - loss: 0.9270 - accuracy: 0.5119 - val_loss: 1.0918 - val_accuracy: 0.3894 - 4s/epoch - 9ms/step\n",
            "Epoch 3/50\n",
            "391/391 - 4s - loss: 0.8194 - accuracy: 0.6054 - val_loss: 1.0302 - val_accuracy: 0.4520 - 4s/epoch - 9ms/step\n",
            "Epoch 4/50\n",
            "391/391 - 5s - loss: 0.6564 - accuracy: 0.7023 - val_loss: 0.9589 - val_accuracy: 0.5027 - 5s/epoch - 12ms/step\n",
            "Epoch 5/50\n",
            "391/391 - 4s - loss: 0.5903 - accuracy: 0.7393 - val_loss: 0.9483 - val_accuracy: 0.5048 - 4s/epoch - 9ms/step\n",
            "Epoch 6/50\n",
            "391/391 - 4s - loss: 0.5516 - accuracy: 0.7610 - val_loss: 0.9720 - val_accuracy: 0.5120 - 4s/epoch - 9ms/step\n",
            "Epoch 7/50\n",
            "391/391 - 4s - loss: 0.5181 - accuracy: 0.7796 - val_loss: 0.9804 - val_accuracy: 0.5098 - 4s/epoch - 11ms/step\n",
            "Epoch 8/50\n",
            "391/391 - 4s - loss: 0.4923 - accuracy: 0.7922 - val_loss: 0.9993 - val_accuracy: 0.5185 - 4s/epoch - 10ms/step\n",
            "Epoch 9/50\n",
            "391/391 - 4s - loss: 0.4686 - accuracy: 0.8048 - val_loss: 1.0399 - val_accuracy: 0.5101 - 4s/epoch - 9ms/step\n",
            "Epoch 10/50\n",
            "391/391 - 4s - loss: 0.4441 - accuracy: 0.8181 - val_loss: 1.0699 - val_accuracy: 0.5120 - 4s/epoch - 9ms/step\n",
            "Epoch 11/50\n",
            "391/391 - 5s - loss: 0.4272 - accuracy: 0.8281 - val_loss: 1.0909 - val_accuracy: 0.5141 - 5s/epoch - 12ms/step\n",
            "Epoch 12/50\n",
            "391/391 - 4s - loss: 0.4044 - accuracy: 0.8414 - val_loss: 1.1092 - val_accuracy: 0.5268 - 4s/epoch - 9ms/step\n",
            "Epoch 13/50\n",
            "391/391 - 4s - loss: 0.3844 - accuracy: 0.8512 - val_loss: 1.2087 - val_accuracy: 0.5177 - 4s/epoch - 9ms/step\n",
            "Epoch 14/50\n",
            "391/391 - 4s - loss: 0.3724 - accuracy: 0.8566 - val_loss: 1.1359 - val_accuracy: 0.5218 - 4s/epoch - 11ms/step\n",
            "Epoch 15/50\n",
            "391/391 - 4s - loss: 0.3551 - accuracy: 0.8653 - val_loss: 1.1817 - val_accuracy: 0.5218 - 4s/epoch - 11ms/step\n",
            "Epoch 16/50\n",
            "391/391 - 4s - loss: 0.3416 - accuracy: 0.8710 - val_loss: 1.2128 - val_accuracy: 0.5091 - 4s/epoch - 10ms/step\n",
            "Epoch 17/50\n",
            "391/391 - 4s - loss: 0.3249 - accuracy: 0.8784 - val_loss: 1.3013 - val_accuracy: 0.5155 - 4s/epoch - 10ms/step\n",
            "Epoch 18/50\n",
            "391/391 - 4s - loss: 0.3121 - accuracy: 0.8848 - val_loss: 1.2751 - val_accuracy: 0.5180 - 4s/epoch - 11ms/step\n",
            "Epoch 19/50\n",
            "391/391 - 4s - loss: 0.2987 - accuracy: 0.8906 - val_loss: 1.4129 - val_accuracy: 0.5123 - 4s/epoch - 9ms/step\n",
            "Epoch 20/50\n",
            "391/391 - 4s - loss: 0.2900 - accuracy: 0.8940 - val_loss: 1.3143 - val_accuracy: 0.5035 - 4s/epoch - 9ms/step\n",
            "Epoch 21/50\n",
            "391/391 - 5s - loss: 0.2735 - accuracy: 0.8996 - val_loss: 1.4155 - val_accuracy: 0.5191 - 5s/epoch - 12ms/step\n",
            "Epoch 22/50\n",
            "391/391 - 4s - loss: 0.2670 - accuracy: 0.9032 - val_loss: 1.4059 - val_accuracy: 0.5089 - 4s/epoch - 9ms/step\n",
            "Epoch 23/50\n",
            "391/391 - 4s - loss: 0.2567 - accuracy: 0.9067 - val_loss: 1.4601 - val_accuracy: 0.5119 - 4s/epoch - 9ms/step\n",
            "Epoch 24/50\n",
            "391/391 - 4s - loss: 0.2510 - accuracy: 0.9095 - val_loss: 1.5371 - val_accuracy: 0.5137 - 4s/epoch - 10ms/step\n",
            "Epoch 25/50\n",
            "391/391 - 4s - loss: 0.2388 - accuracy: 0.9143 - val_loss: 1.5109 - val_accuracy: 0.5048 - 4s/epoch - 10ms/step\n",
            "Epoch 26/50\n",
            "391/391 - 4s - loss: 0.2312 - accuracy: 0.9170 - val_loss: 1.5804 - val_accuracy: 0.5094 - 4s/epoch - 9ms/step\n",
            "Epoch 27/50\n",
            "391/391 - 4s - loss: 0.2202 - accuracy: 0.9213 - val_loss: 1.5226 - val_accuracy: 0.5106 - 4s/epoch - 9ms/step\n",
            "Epoch 28/50\n",
            "391/391 - 5s - loss: 0.2207 - accuracy: 0.9221 - val_loss: 1.6671 - val_accuracy: 0.5059 - 5s/epoch - 12ms/step\n",
            "Epoch 29/50\n",
            "391/391 - 4s - loss: 0.2058 - accuracy: 0.9269 - val_loss: 1.5999 - val_accuracy: 0.5152 - 4s/epoch - 9ms/step\n",
            "Epoch 30/50\n",
            "391/391 - 4s - loss: 0.2035 - accuracy: 0.9277 - val_loss: 1.7086 - val_accuracy: 0.4937 - 4s/epoch - 9ms/step\n",
            "Epoch 31/50\n",
            "391/391 - 4s - loss: 0.1998 - accuracy: 0.9269 - val_loss: 1.7725 - val_accuracy: 0.5008 - 4s/epoch - 10ms/step\n",
            "Epoch 32/50\n",
            "391/391 - 4s - loss: 0.1872 - accuracy: 0.9323 - val_loss: 1.7596 - val_accuracy: 0.5086 - 4s/epoch - 10ms/step\n",
            "Epoch 33/50\n",
            "391/391 - 4s - loss: 0.1831 - accuracy: 0.9338 - val_loss: 1.8057 - val_accuracy: 0.5026 - 4s/epoch - 9ms/step\n",
            "Epoch 34/50\n",
            "391/391 - 4s - loss: 0.1778 - accuracy: 0.9350 - val_loss: 1.7725 - val_accuracy: 0.4987 - 4s/epoch - 9ms/step\n",
            "Epoch 35/50\n",
            "391/391 - 5s - loss: 0.1708 - accuracy: 0.9376 - val_loss: 1.8376 - val_accuracy: 0.4997 - 5s/epoch - 12ms/step\n",
            "Epoch 36/50\n",
            "391/391 - 4s - loss: 0.1651 - accuracy: 0.9412 - val_loss: 1.8363 - val_accuracy: 0.5074 - 4s/epoch - 9ms/step\n",
            "Epoch 37/50\n",
            "391/391 - 4s - loss: 0.1654 - accuracy: 0.9396 - val_loss: 1.8612 - val_accuracy: 0.5033 - 4s/epoch - 9ms/step\n",
            "Epoch 38/50\n",
            "391/391 - 4s - loss: 0.1625 - accuracy: 0.9417 - val_loss: 1.9825 - val_accuracy: 0.4971 - 4s/epoch - 10ms/step\n",
            "Epoch 39/50\n",
            "391/391 - 4s - loss: 0.1501 - accuracy: 0.9466 - val_loss: 1.9936 - val_accuracy: 0.5114 - 4s/epoch - 10ms/step\n",
            "Epoch 40/50\n",
            "391/391 - 3s - loss: 0.1529 - accuracy: 0.9448 - val_loss: 2.0735 - val_accuracy: 0.5024 - 3s/epoch - 9ms/step\n",
            "Epoch 41/50\n",
            "391/391 - 3s - loss: 0.1486 - accuracy: 0.9454 - val_loss: 2.1130 - val_accuracy: 0.4958 - 3s/epoch - 9ms/step\n",
            "Epoch 42/50\n",
            "391/391 - 5s - loss: 0.1391 - accuracy: 0.9496 - val_loss: 2.2116 - val_accuracy: 0.5072 - 5s/epoch - 12ms/step\n",
            "Epoch 43/50\n",
            "391/391 - 4s - loss: 0.1403 - accuracy: 0.9496 - val_loss: 2.1480 - val_accuracy: 0.5064 - 4s/epoch - 9ms/step\n",
            "Epoch 44/50\n",
            "391/391 - 4s - loss: 0.1380 - accuracy: 0.9495 - val_loss: 2.1712 - val_accuracy: 0.5018 - 4s/epoch - 9ms/step\n",
            "Epoch 45/50\n",
            "391/391 - 4s - loss: 0.1303 - accuracy: 0.9535 - val_loss: 2.1329 - val_accuracy: 0.4982 - 4s/epoch - 11ms/step\n",
            "Epoch 46/50\n",
            "391/391 - 4s - loss: 0.1302 - accuracy: 0.9522 - val_loss: 2.1933 - val_accuracy: 0.5090 - 4s/epoch - 10ms/step\n",
            "Epoch 47/50\n",
            "391/391 - 4s - loss: 0.1261 - accuracy: 0.9543 - val_loss: 2.1756 - val_accuracy: 0.5049 - 4s/epoch - 9ms/step\n",
            "Epoch 48/50\n",
            "391/391 - 4s - loss: 0.1270 - accuracy: 0.9539 - val_loss: 2.2174 - val_accuracy: 0.5045 - 4s/epoch - 9ms/step\n",
            "Epoch 49/50\n",
            "391/391 - 5s - loss: 0.1177 - accuracy: 0.9576 - val_loss: 2.2619 - val_accuracy: 0.4984 - 5s/epoch - 12ms/step\n",
            "Epoch 50/50\n",
            "391/391 - 4s - loss: 0.1217 - accuracy: 0.9557 - val_loss: 2.2578 - val_accuracy: 0.4948 - 4s/epoch - 9ms/step\n",
            "CPU times: user 3min 36s, sys: 11 s, total: 3min 47s\n",
            "Wall time: 4min 25s\n"
          ]
        },
        {
          "output_type": "execute_result",
          "data": {
            "text/plain": [
              "<keras.src.callbacks.History at 0x7fdbc56a5e70>"
            ]
          },
          "metadata": {},
          "execution_count": 13
        }
      ]
    },
    {
      "cell_type": "code",
      "source": [
        "deeplob.load_weights(checkpoint_filepath)\n",
        "pred = deeplob.predict(testX_CNN)"
      ],
      "metadata": {
        "colab": {
          "base_uri": "https://localhost:8080/"
        },
        "id": "w-26dzYHLek4",
        "outputId": "62066d4b-eb9e-40be-e474-f16ad5fe4ac5"
      },
      "execution_count": null,
      "outputs": [
        {
          "output_type": "stream",
          "name": "stdout",
          "text": [
            "625/625 [==============================] - 3s 4ms/step\n"
          ]
        }
      ]
    },
    {
      "cell_type": "code",
      "source": [
        "print('accuracy_score:', accuracy_score(np.argmax(testY_CNN, axis=1), np.argmax(pred, axis=1)))\n",
        "print(classification_report(np.argmax(testY_CNN, axis=1), np.argmax(pred, axis=1), digits=4))"
      ],
      "metadata": {
        "colab": {
          "base_uri": "https://localhost:8080/"
        },
        "id": "XX2UQWkJLizk",
        "outputId": "36be3b1e-af08-4b05-d97b-d2be25d7f653"
      },
      "execution_count": null,
      "outputs": [
        {
          "output_type": "stream",
          "name": "stdout",
          "text": [
            "accuracy_score: 0.7904056825571507\n",
            "              precision    recall  f1-score   support\n",
            "\n",
            "           0     0.7874    0.7675    0.7773      7821\n",
            "           1     0.8653    0.8332    0.8490      5457\n",
            "           2     0.7383    0.7822    0.7596      6713\n",
            "\n",
            "    accuracy                         0.7904     19991\n",
            "   macro avg     0.7970    0.7943    0.7953     19991\n",
            "weighted avg     0.7922    0.7904    0.7909     19991\n",
            "\n"
          ]
        }
      ]
    },
    {
      "cell_type": "code",
      "source": [
        "from sklearn.metrics import accuracy_score, classification_report, confusion_matrix, ConfusionMatrixDisplay\n",
        "c = confusion_matrix(np.argmax(testY_CNN, axis=1), np.argmax(pred, axis=1), normalize=\"true\")\n",
        "disp = ConfusionMatrixDisplay(c)\n",
        "disp.plot()\n",
        "plt.show()"
      ],
      "metadata": {
        "colab": {
          "base_uri": "https://localhost:8080/",
          "height": 449
        },
        "id": "qkha5y5ILSi6",
        "outputId": "f41274a0-c07e-43ff-f589-f351e5925b71"
      },
      "execution_count": null,
      "outputs": [
        {
          "output_type": "display_data",
          "data": {
            "text/plain": [
              "<Figure size 640x480 with 2 Axes>"
            ],
            "image/png": "[encoded data removed]"
          },
          "metadata": {}
        }
      ]
    },
    {
      "cell_type": "code",
      "source": [
        "import matplotlib.pyplot as plt\n",
        "\n",
        "# Extract values from the training logs\n",
        "epochs = range(1, 51)  # Assuming you trained for 50 epochs\n",
        "train_loss = [0.9600, 0.9270, 0.8194, 0.6564, 0.5903, 0.5516, 0.5181, 0.4923, 0.4686, 0.4441,\n",
        "              0.4272, 0.4044, 0.3844, 0.3724, 0.3551, 0.3416, 0.3249, 0.3121, 0.2987, 0.2900,\n",
        "              0.2735, 0.2670, 0.2567, 0.2510, 0.2388, 0.2312, 0.2202, 0.2207, 0.2058, 0.2035,\n",
        "              0.1998, 0.1998, 0.1872, 0.1831, 0.1778, 0.1708, 0.1651, 0.1654, 0.1625, 0.1501,\n",
        "              0.1529, 0.1486, 0.1391, 0.1403, 0.1380, 0.1303, 0.1302, 0.1261, 0.1270, 0.1177]\n",
        "\n",
        "val_loss = [1.0880, 1.0918, 1.0302, 0.9589, 0.9483, 0.9720, 0.9804, 0.9993, 1.0399, 1.0699,\n",
        "            1.0909, 1.1092, 1.2087, 1.1359, 1.1817, 1.2128, 1.3013, 1.2751, 1.4129, 1.3143,\n",
        "            1.4155, 1.4059, 1.4601, 1.5371, 1.5109, 1.5804, 1.5226, 1.6671, 1.5999, 1.7086,\n",
        "            1.7725, 1.7596, 1.8057, 1.7725, 1.8376, 1.8363, 1.8612, 1.9825, 1.9936, 2.0735,\n",
        "            2.1130, 2.2116, 2.1480, 2.1712, 2.1329, 2.1933, 2.1756, 2.2174, 2.2619, 2.2578]\n",
        "\n",
        "train_acc = [0.4493, 0.5119, 0.6054, 0.7023, 0.7393, 0.7610, 0.7796, 0.7922, 0.8048, 0.8181,\n",
        "             0.8281, 0.8414, 0.8512, 0.8566, 0.8653, 0.8710, 0.8784, 0.8848, 0.8906, 0.8940,\n",
        "             0.8996, 0.9032, 0.9067, 0.9095, 0.9143, 0.9170, 0.9213, 0.9221, 0.9269, 0.9277,\n",
        "             0.9269, 0.9323, 0.9338, 0.9350, 0.9376, 0.9412, 0.9396, 0.9417, 0.9466, 0.9448,\n",
        "             0.9454, 0.9496, 0.9496, 0.9495, 0.9535, 0.9522, 0.9543, 0.9539, 0.9576, 0.9557]\n",
        "\n",
        "val_acc = [0.4022, 0.3894, 0.4520, 0.5027, 0.5048, 0.5120, 0.5098, 0.5185, 0.5101, 0.5120,\n",
        "           0.5141, 0.5268, 0.5177, 0.5218, 0.5218, 0.5091, 0.5155, 0.5180, 0.5123, 0.5035,\n",
        "           0.5191, 0.5089, 0.5119, 0.5137, 0.5048, 0.5094, 0.5106, 0.5059, 0.5152, 0.4937,\n",
        "           0.5035, 0.5008, 0.5086, 0.5026, 0.4987, 0.4997, 0.5074, 0.5072, 0.5033, 0.4971,\n",
        "           0.5114, 0.5024, 0.4958, 0.5072, 0.5064, 0.5018, 0.4982, 0.5090, 0.5049, 0.5045]\n",
        "\n",
        "# Plotting the training loss and validation loss\n",
        "plt.figure(figsize=(12, 4))\n",
        "plt.subplot(1, 2, 1)\n",
        "plt.plot(epochs, train_loss, label='Training Loss')\n",
        "plt.plot(epochs, val_loss,  label='Validation Loss')\n",
        "plt.title('Training and Validation Loss')\n",
        "plt.xlabel('Epochs')\n",
        "plt.ylabel('Loss')\n",
        "plt.legend()\n",
        "\n",
        "# Plotting the training accuracy and validation accuracy\n",
        "plt.subplot(1, 2, 2)\n",
        "plt.plot(epochs, train_acc, label='Training Accuracy')\n",
        "plt.plot(epochs, val_acc, label='Validation Accuracy')\n",
        "plt.title('Training and Validation Accuracy')\n",
        "plt.xlabel('Epochs')\n",
        "plt.ylabel('Accuracy')\n",
        "plt.legend()\n",
        "\n",
        "plt.tight_layout()\n",
        "plt.show()\n"
      ],
      "metadata": {
        "colab": {
          "base_uri": "https://localhost:8080/",
          "height": 397
        },
        "id": "ObnYQ1vpv_12",
        "outputId": "4224e07c-db1e-47f6-b0ae-142fa5864b77"
      },
      "execution_count": null,
      "outputs": [
        {
          "output_type": "display_data",
          "data": {
            "text/plain": [
              "<Figure size 1200x400 with 2 Axes>"
            ],
            "image/png": "[encoded data removed]"
          },
          "metadata": {}
        }
      ]
    }
  ]
}